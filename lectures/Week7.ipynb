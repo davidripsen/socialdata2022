{
 "cells": [
  {
   "cell_type": "markdown",
   "metadata": {},
   "source": [
    "## Intro\n",
    "\n",
    "Last week you had an intro to classification tasks and decision trees. You worked on a model to predict criminal recidivism and made a few visualizations along the way. \n",
    "\n",
    "Some of you asked: why Machine Learning? And, even though modeling is part of analysing data and predictions are a huge part of how people use data nowadays, there is something more important to it: visualization are not only powerful to study data, they are also great to understand models. We needed that little extra Machine Learning to explore another way of using visualizations. \n",
    "\n",
    "Today, we will do exactly this! The purpose of today's class is threefold: \n",
    "\n",
    "1. To explore the data I gave you last week with **interactive visualizations**;\n",
    "2. To **visualize the results** on criminal recidivism of your machine learning model;\n",
    "3. To **debias** the results you obtained via two methods (and a bit of visualization along the way). "
   ]
  },
  {
   "cell_type": "markdown",
   "metadata": {},
   "source": [
    "## Part 1: Interactive visualizations with Bokeh\n",
    "\n",
    "Until today we have worked with static data visualization. However, exploratory data analysis means to be able to explore the multi-faceted nature of data and *interactive dataviz* is a handy tool to do it! It allows to play with the data: Toggle the view. Zoom. Drag. Show more details. All those things. Those are a key part of modern data visualization. \n",
    "\n",
    "To really master interactive visualizations, you should check out methods in JavaScript, especially [D3](https://d3js.org). Given that we only have 5ECTS for this class, we unfortunately don't have time for that. But luckily Python has some pretty good options for interactive visualizations. [Here](https://mode.com/blog/python-interactive-plot-libraries/), you can find some of them.\n",
    "\n",
    "Today, we'll explore [`Bokeh`](https://docs.bokeh.org/en/latest/), which provides lots of nice interactive funtionalities to Python. To work with Bokeh, we first need to do some preparation:\n",
    "1. If you haven't installed it yet please do so. You can simply follow [these steps](https://docs.bokeh.org/en/latest/docs/first_steps/installation.html)\n",
    "2. To include Bokeh in your notebooks you can follow the [Bokeh: Using with Jupyter](https://docs.bokeh.org/en/latest/docs/user_guide/jupyter.html#userguide-jupyter-notebook) guide. Come back to this one when you need it\n",
    "3. We aim to give you a gentle start with Bokeh and I am going to include more example codes than usual in the follwing. However, to get a sense of how things work, I suggest you surf the web, find a Bokeh tutorial and scan through it. Also click around a bit in [the official docs](https://docs.bokeh.org/en/latest/docs/user_guide.html#userguide).\n",
    "\n",
    "In the exercises below, we will use the data from [GitHub](https://raw.githubusercontent.com/suneman/socialdata2022/main/files/recidivism_dataset_sub.csv):\n",
    "1. Load the data and select the columns as in Week 6, Exercise 3.1\n",
    "2. Preprocess the data as in Week 6, Exercise 3.2.\n",
    "\n",
    "Ok, let's get started!"
   ]
  },
  {
   "cell_type": "code",
   "execution_count": 3,
   "metadata": {},
   "outputs": [
    {
     "data": {
      "text/plain": [
       "(7214, 11)"
      ]
     },
     "execution_count": 3,
     "metadata": {},
     "output_type": "execute_result"
    }
   ],
   "source": [
    "#### My answer\n",
    "import pandas as pd\n",
    "import numpy as np\n",
    "from matplotlib import pyplot as plt\n",
    "from sklearn.model_selection import train_test_split\n",
    "from sklearn.ensemble import GradientBoostingClassifier, RandomForestClassifier\n",
    "from sklearn.pipeline import Pipeline\n",
    "import seaborn as sns\n",
    "sns.set_theme()\n",
    "\n",
    "url = 'https://raw.githubusercontent.com/suneman/socialdata2022/main/files/recidivism_dataset_sub.csv'\n",
    "Xvar = ['age', 'sex', 'race', 'juv_fel_count', 'juv_misd_count', 'juv_other_count', 'priors_count', 'is_recid', 'days_b_screening_arrest','c_charge_degree']\n",
    "yvar = ['two_year_recid']\n",
    "\n",
    "Dfull = pd.read_csv(url)  # OMG :)) !\n",
    "D = Dfull[Xvar + yvar]\n",
    "D.shape"
   ]
  },
  {
   "cell_type": "code",
   "execution_count": 68,
   "metadata": {},
   "outputs": [
    {
     "data": {
      "text/html": [
       "\n",
       "\n",
       "\n",
       "\n",
       "\n",
       "\n",
       "  <div class=\"bk-root\" id=\"8f4f9ff2-3098-404e-a13f-a52e4888b811\" data-root-id=\"1641\"></div>\n"
      ]
     },
     "metadata": {},
     "output_type": "display_data"
    },
    {
     "data": {
      "application/javascript": "(function(root) {\n  function embed_document(root) {\n    \n  const docs_json = {\"9e93eaa2-49e3-4fcb-ab70-c3458db2723d\":{\"defs\":[],\"roots\":{\"references\":[{\"attributes\":{\"below\":[{\"id\":\"1652\"}],\"center\":[{\"id\":\"1655\"},{\"id\":\"1659\"},{\"id\":\"1690\"}],\"left\":[{\"id\":\"1656\"}],\"renderers\":[{\"id\":\"1678\"}],\"title\":{\"id\":\"1642\"},\"toolbar\":{\"id\":\"1667\"},\"x_range\":{\"id\":\"1644\"},\"x_scale\":{\"id\":\"1648\"},\"y_range\":{\"id\":\"1646\"},\"y_scale\":{\"id\":\"1650\"}},\"id\":\"1641\",\"subtype\":\"Figure\",\"type\":\"Plot\"},{\"attributes\":{},\"id\":\"1657\",\"type\":\"BasicTicker\"},{\"attributes\":{\"line_color\":\"#1f77b4\",\"x\":{\"field\":\"x\"},\"y\":{\"field\":\"y\"}},\"id\":\"1675\",\"type\":\"Line\"},{\"attributes\":{},\"id\":\"1682\",\"type\":\"BasicTickFormatter\"},{\"attributes\":{},\"id\":\"1683\",\"type\":\"AllLabels\"},{\"attributes\":{\"tools\":[{\"id\":\"1660\"},{\"id\":\"1661\"},{\"id\":\"1662\"},{\"id\":\"1663\"},{\"id\":\"1664\"},{\"id\":\"1665\"}]},\"id\":\"1667\",\"type\":\"Toolbar\"},{\"attributes\":{\"label\":{\"value\":\"leeegend\"},\"renderers\":[{\"id\":\"1678\"}]},\"id\":\"1691\",\"type\":\"LegendItem\"},{\"attributes\":{},\"id\":\"1685\",\"type\":\"BasicTickFormatter\"},{\"attributes\":{\"line_alpha\":0.2,\"line_color\":\"#1f77b4\",\"x\":{\"field\":\"x\"},\"y\":{\"field\":\"y\"}},\"id\":\"1677\",\"type\":\"Line\"},{\"attributes\":{\"coordinates\":null,\"group\":null,\"items\":[{\"id\":\"1691\"}]},\"id\":\"1690\",\"type\":\"Legend\"},{\"attributes\":{},\"id\":\"1686\",\"type\":\"AllLabels\"},{\"attributes\":{\"coordinates\":null,\"group\":null,\"text\":\"Great title\"},\"id\":\"1642\",\"type\":\"Title\"},{\"attributes\":{},\"id\":\"1644\",\"type\":\"DataRange1d\"},{\"attributes\":{\"axis\":{\"id\":\"1656\"},\"coordinates\":null,\"dimension\":1,\"group\":null,\"ticker\":null},\"id\":\"1659\",\"type\":\"Grid\"},{\"attributes\":{\"data\":{\"x\":[1,2,3,4],\"y\":[1,4,9,16]},\"selected\":{\"id\":\"1688\"},\"selection_policy\":{\"id\":\"1687\"}},\"id\":\"1674\",\"type\":\"ColumnDataSource\"},{\"attributes\":{},\"id\":\"1661\",\"type\":\"WheelZoomTool\"},{\"attributes\":{\"coordinates\":null,\"data_source\":{\"id\":\"1674\"},\"glyph\":{\"id\":\"1675\"},\"group\":null,\"hover_glyph\":null,\"muted_glyph\":{\"id\":\"1677\"},\"nonselection_glyph\":{\"id\":\"1676\"},\"view\":{\"id\":\"1679\"}},\"id\":\"1678\",\"type\":\"GlyphRenderer\"},{\"attributes\":{},\"id\":\"1663\",\"type\":\"SaveTool\"},{\"attributes\":{},\"id\":\"1687\",\"type\":\"UnionRenderers\"},{\"attributes\":{},\"id\":\"1688\",\"type\":\"Selection\"},{\"attributes\":{\"source\":{\"id\":\"1674\"}},\"id\":\"1679\",\"type\":\"CDSView\"},{\"attributes\":{\"axis\":{\"id\":\"1652\"},\"coordinates\":null,\"group\":null,\"ticker\":null},\"id\":\"1655\",\"type\":\"Grid\"},{\"attributes\":{},\"id\":\"1665\",\"type\":\"HelpTool\"},{\"attributes\":{},\"id\":\"1650\",\"type\":\"LinearScale\"},{\"attributes\":{\"bottom_units\":\"screen\",\"coordinates\":null,\"fill_alpha\":0.5,\"fill_color\":\"lightgrey\",\"group\":null,\"left_units\":\"screen\",\"level\":\"overlay\",\"line_alpha\":1.0,\"line_color\":\"black\",\"line_dash\":[4,4],\"line_width\":2,\"right_units\":\"screen\",\"syncable\":false,\"top_units\":\"screen\"},\"id\":\"1666\",\"type\":\"BoxAnnotation\"},{\"attributes\":{\"axis_label\":\"great y-label\",\"coordinates\":null,\"formatter\":{\"id\":\"1682\"},\"group\":null,\"major_label_policy\":{\"id\":\"1683\"},\"ticker\":{\"id\":\"1657\"}},\"id\":\"1656\",\"type\":\"LinearAxis\"},{\"attributes\":{\"line_alpha\":0.1,\"line_color\":\"#1f77b4\",\"x\":{\"field\":\"x\"},\"y\":{\"field\":\"y\"}},\"id\":\"1676\",\"type\":\"Line\"},{\"attributes\":{\"axis_label\":\"x\",\"coordinates\":null,\"formatter\":{\"id\":\"1685\"},\"group\":null,\"major_label_policy\":{\"id\":\"1686\"},\"ticker\":{\"id\":\"1653\"}},\"id\":\"1652\",\"type\":\"LinearAxis\"},{\"attributes\":{},\"id\":\"1648\",\"type\":\"LinearScale\"},{\"attributes\":{},\"id\":\"1664\",\"type\":\"ResetTool\"},{\"attributes\":{},\"id\":\"1653\",\"type\":\"BasicTicker\"},{\"attributes\":{},\"id\":\"1646\",\"type\":\"DataRange1d\"},{\"attributes\":{\"overlay\":{\"id\":\"1666\"}},\"id\":\"1662\",\"type\":\"BoxZoomTool\"},{\"attributes\":{},\"id\":\"1660\",\"type\":\"PanTool\"}],\"root_ids\":[\"1641\"]},\"title\":\"Bokeh Application\",\"version\":\"2.4.2\"}};\n  const render_items = [{\"docid\":\"9e93eaa2-49e3-4fcb-ab70-c3458db2723d\",\"notebook_comms_target\":\"1722\",\"root_ids\":[\"1641\"],\"roots\":{\"1641\":\"8f4f9ff2-3098-404e-a13f-a52e4888b811\"}}];\n  root.Bokeh.embed.embed_items_notebook(docs_json, render_items);\n\n  }\n  if (root.Bokeh !== undefined) {\n    embed_document(root);\n  } else {\n    let attempts = 0;\n    const timer = setInterval(function(root) {\n      if (root.Bokeh !== undefined) {\n        clearInterval(timer);\n        embed_document(root);\n      } else {\n        attempts++;\n        if (attempts > 100) {\n          clearInterval(timer);\n          console.log(\"Bokeh: ERROR: Unable to run BokehJS code because BokehJS library is missing\");\n        }\n      }\n    }, 10, root)\n  }\n})(window);",
      "application/vnd.bokehjs_exec.v0+json": ""
     },
     "metadata": {
      "application/vnd.bokehjs_exec.v0+json": {
       "id": "1641"
      }
     },
     "output_type": "display_data"
    },
    {
     "data": {
      "text/html": [
       "<p><code>&lt;Bokeh Notebook handle for <strong>In[68]</strong>&gt;</code></p>"
      ],
      "text/plain": [
       "<bokeh.io.notebook.CommsHandle at 0x15c99a430>"
      ]
     },
     "execution_count": 68,
     "metadata": {},
     "output_type": "execute_result"
    }
   ],
   "source": [
    "# Basic bokeh\n",
    "from bokeh.plotting import figure, show, output_notebook, ColumnDataSource\n",
    "x = [1,2,3,4]\n",
    "y = [1, 4, 9, 16]\n",
    "# Create plot\n",
    "p = figure(title=\"Great title\", x_axis_label='x', y_axis_label='great y-label')\n",
    "p.line(x,y, legend_label='leeegend')\n",
    "\n",
    "#show(p)  # Shows in browser\n",
    "#output_notebook()\n",
    "show(p, notebook_handle=True) # Shows in notebook"
   ]
  },
  {
   "cell_type": "code",
   "execution_count": 145,
   "metadata": {},
   "outputs": [
    {
     "data": {
      "text/html": [
       "\n",
       "\n",
       "\n",
       "\n",
       "\n",
       "\n",
       "  <div class=\"bk-root\" id=\"3825d677-27f3-458f-9adc-3a0138d531b4\" data-root-id=\"9392\"></div>\n"
      ]
     },
     "metadata": {},
     "output_type": "display_data"
    },
    {
     "data": {
      "application/javascript": "(function(root) {\n  function embed_document(root) {\n    \n  const docs_json = {\"1c08c79d-767e-4c41-9d28-0a79e4b34fda\":{\"defs\":[],\"roots\":{\"references\":[{\"attributes\":{\"below\":[{\"id\":\"9403\"}],\"center\":[{\"id\":\"9406\"},{\"id\":\"9410\"},{\"id\":\"9441\"}],\"left\":[{\"id\":\"9407\"}],\"renderers\":[{\"id\":\"9429\"},{\"id\":\"9447\"},{\"id\":\"9464\"},{\"id\":\"9481\"},{\"id\":\"9498\"},{\"id\":\"9515\"}],\"title\":{\"id\":\"9393\"},\"toolbar\":{\"id\":\"9418\"},\"x_range\":{\"id\":\"9395\"},\"x_scale\":{\"id\":\"9399\"},\"y_range\":{\"id\":\"9397\"},\"y_scale\":{\"id\":\"9401\"}},\"id\":\"9392\",\"subtype\":\"Figure\",\"type\":\"Plot\"},{\"attributes\":{\"fill_alpha\":{\"value\":0.2},\"fill_color\":{\"value\":\"#8172b3\"},\"hatch_alpha\":{\"value\":0.2},\"line_alpha\":{\"value\":0.2},\"line_color\":{\"value\":\"#1f77b4\"},\"top\":{\"field\":\"Native American\"},\"x\":{\"field\":\"age\"}},\"id\":\"9497\",\"type\":\"VBar\"},{\"attributes\":{\"label\":{\"value\":\"Native American\"},\"renderers\":[{\"id\":\"9498\"}]},\"id\":\"9510\",\"type\":\"LegendItem\"},{\"attributes\":{\"coordinates\":null,\"group\":null,\"text\":\"Great title\"},\"id\":\"9393\",\"type\":\"Title\"},{\"attributes\":{\"coordinates\":null,\"data_source\":{\"id\":\"9391\"},\"glyph\":{\"id\":\"9512\"},\"group\":null,\"hover_glyph\":null,\"muted_glyph\":{\"id\":\"9514\"},\"nonselection_glyph\":{\"id\":\"9513\"},\"view\":{\"id\":\"9516\"}},\"id\":\"9515\",\"type\":\"GlyphRenderer\"},{\"attributes\":{},\"id\":\"9411\",\"type\":\"PanTool\"},{\"attributes\":{},\"id\":\"9399\",\"type\":\"LinearScale\"},{\"attributes\":{\"coordinates\":null,\"data_source\":{\"id\":\"9391\"},\"glyph\":{\"id\":\"9478\"},\"group\":null,\"hover_glyph\":null,\"muted_glyph\":{\"id\":\"9480\"},\"nonselection_glyph\":{\"id\":\"9479\"},\"view\":{\"id\":\"9482\"}},\"id\":\"9481\",\"type\":\"GlyphRenderer\"},{\"attributes\":{},\"id\":\"9437\",\"type\":\"AllLabels\"},{\"attributes\":{\"fill_color\":{\"value\":\"#4c72b0\"},\"line_color\":{\"value\":\"#1f77b4\"},\"top\":{\"field\":\"Other\"},\"x\":{\"field\":\"age\"}},\"id\":\"9426\",\"type\":\"VBar\"},{\"attributes\":{\"overlay\":{\"id\":\"9417\"}},\"id\":\"9413\",\"type\":\"BoxZoomTool\"},{\"attributes\":{},\"id\":\"9397\",\"type\":\"DataRange1d\"},{\"attributes\":{\"data\":{\"African-American\":[2,22,109,191,187,200,209,195,198,200,158,166,164,135,123,110,109,107,85,85,64,56,40,58,51,49,41,43,38,41,32,32,31,46,42,30,30,24,35,28,15,23,13,19,8,12,8,4,7,5,4,4,2,2,0,0,1,1,0,2,0,0,0,0,0],\"Asian\":[0,0,1,1,1,0,4,0,1,0,1,1,1,0,1,1,2,1,1,0,2,0,1,1,0,0,0,1,2,1,2,0,1,1,1,0,0,0,0,0,0,0,0,0,0,0,0,0,0,1,0,0,0,0,0,0,0,0,1,0,0,0,0,0,0],\"Caucasian\":[1,9,44,76,83,72,105,97,97,86,87,83,85,78,63,70,63,44,57,58,48,69,40,43,41,50,53,42,55,41,39,49,53,49,40,44,36,42,45,32,29,22,13,20,12,10,8,12,12,12,4,9,3,3,3,1,4,2,0,2,1,1,1,1,0],\"Hispanic\":[0,2,12,31,24,31,27,22,24,21,25,19,26,27,22,17,17,21,17,29,17,12,11,13,5,8,14,18,7,10,8,4,9,10,10,9,6,7,8,5,4,4,4,3,3,2,2,1,0,3,1,2,0,0,0,0,0,1,0,0,0,0,0,1,1],\"Native American\":[0,0,1,1,1,0,0,1,1,1,1,1,0,0,0,2,1,0,0,1,1,0,1,0,1,0,0,2,0,1,0,0,0,0,0,0,0,0,0,0,0,0,0,0,0,0,0,0,0,0,0,0,0,0,0,0,0,0,0,0,0,0,0,0,0],\"Other\":[0,1,16,18,9,18,20,17,11,13,7,13,21,16,11,15,9,4,11,13,11,10,9,3,6,7,3,7,6,5,11,5,2,4,5,4,6,3,5,5,3,3,3,1,1,1,1,0,1,0,0,2,1,0,0,0,0,0,0,0,0,0,0,0,0],\"age\":[18,19,20,21,22,23,24,25,26,27,28,29,30,31,32,33,34,35,36,37,38,39,40,41,42,43,44,45,46,47,48,49,50,51,52,53,54,55,56,57,58,59,60,61,62,63,64,65,66,67,68,69,70,71,72,73,74,75,76,77,78,79,80,83,96],\"index\":[18,19,20,21,22,23,24,25,26,27,28,29,30,31,32,33,34,35,36,37,38,39,40,41,42,43,44,45,46,47,48,49,50,51,52,53,54,55,56,57,58,59,60,61,62,63,64,65,66,67,68,69,70,71,72,73,74,75,76,77,78,79,80,83,96]},\"selected\":{\"id\":\"9439\"},\"selection_policy\":{\"id\":\"9438\"}},\"id\":\"9391\",\"type\":\"ColumnDataSource\"},{\"attributes\":{\"bottom_units\":\"screen\",\"coordinates\":null,\"fill_alpha\":0.5,\"fill_color\":\"lightgrey\",\"group\":null,\"left_units\":\"screen\",\"level\":\"overlay\",\"line_alpha\":1.0,\"line_color\":\"black\",\"line_dash\":[4,4],\"line_width\":2,\"right_units\":\"screen\",\"syncable\":false,\"top_units\":\"screen\"},\"id\":\"9417\",\"type\":\"BoxAnnotation\"},{\"attributes\":{\"fill_alpha\":{\"value\":0.1},\"fill_color\":{\"value\":\"#c44e52\"},\"hatch_alpha\":{\"value\":0.1},\"line_alpha\":{\"value\":0.1},\"line_color\":{\"value\":\"#1f77b4\"},\"top\":{\"field\":\"Hispanic\"},\"x\":{\"field\":\"age\"}},\"id\":\"9479\",\"type\":\"VBar\"},{\"attributes\":{\"fill_color\":{\"value\":\"#c44e52\"},\"line_color\":{\"value\":\"#1f77b4\"},\"top\":{\"field\":\"Hispanic\"},\"x\":{\"field\":\"age\"}},\"id\":\"9478\",\"type\":\"VBar\"},{\"attributes\":{\"source\":{\"id\":\"9391\"}},\"id\":\"9482\",\"type\":\"CDSView\"},{\"attributes\":{\"fill_alpha\":{\"value\":0.2},\"fill_color\":{\"value\":\"#c44e52\"},\"hatch_alpha\":{\"value\":0.2},\"line_alpha\":{\"value\":0.2},\"line_color\":{\"value\":\"#1f77b4\"},\"top\":{\"field\":\"Hispanic\"},\"x\":{\"field\":\"age\"}},\"id\":\"9480\",\"type\":\"VBar\"},{\"attributes\":{\"label\":{\"value\":\"Hispanic\"},\"renderers\":[{\"id\":\"9481\"}]},\"id\":\"9493\",\"type\":\"LegendItem\"},{\"attributes\":{},\"id\":\"9414\",\"type\":\"SaveTool\"},{\"attributes\":{},\"id\":\"9415\",\"type\":\"ResetTool\"},{\"attributes\":{\"coordinates\":null,\"data_source\":{\"id\":\"9391\"},\"glyph\":{\"id\":\"9495\"},\"group\":null,\"hover_glyph\":null,\"muted_glyph\":{\"id\":\"9497\"},\"nonselection_glyph\":{\"id\":\"9496\"},\"view\":{\"id\":\"9499\"}},\"id\":\"9498\",\"type\":\"GlyphRenderer\"},{\"attributes\":{},\"id\":\"9412\",\"type\":\"WheelZoomTool\"},{\"attributes\":{},\"id\":\"9436\",\"type\":\"BasicTickFormatter\"},{\"attributes\":{\"tools\":[{\"id\":\"9411\"},{\"id\":\"9412\"},{\"id\":\"9413\"},{\"id\":\"9414\"},{\"id\":\"9415\"},{\"id\":\"9416\"}]},\"id\":\"9418\",\"type\":\"Toolbar\"},{\"attributes\":{\"label\":{\"value\":\"Caucasian\"},\"renderers\":[{\"id\":\"9464\"}]},\"id\":\"9476\",\"type\":\"LegendItem\"},{\"attributes\":{\"axis_label\":\"Occurences\",\"coordinates\":null,\"formatter\":{\"id\":\"9433\"},\"group\":null,\"major_label_policy\":{\"id\":\"9434\"},\"ticker\":{\"id\":\"9408\"}},\"id\":\"9407\",\"type\":\"LinearAxis\"},{\"attributes\":{\"click_policy\":\"mute\",\"coordinates\":null,\"group\":null,\"items\":[{\"id\":\"9442\"},{\"id\":\"9459\"},{\"id\":\"9476\"},{\"id\":\"9493\"},{\"id\":\"9510\"},{\"id\":\"9527\"}]},\"id\":\"9441\",\"type\":\"Legend\"},{\"attributes\":{\"coordinates\":null,\"data_source\":{\"id\":\"9391\"},\"glyph\":{\"id\":\"9426\"},\"group\":null,\"hover_glyph\":null,\"muted_glyph\":{\"id\":\"9428\"},\"nonselection_glyph\":{\"id\":\"9427\"},\"view\":{\"id\":\"9430\"}},\"id\":\"9429\",\"type\":\"GlyphRenderer\"},{\"attributes\":{},\"id\":\"9438\",\"type\":\"UnionRenderers\"},{\"attributes\":{},\"id\":\"9434\",\"type\":\"AllLabels\"},{\"attributes\":{\"fill_alpha\":{\"value\":0.1},\"fill_color\":{\"value\":\"#55a868\"},\"hatch_alpha\":{\"value\":0.1},\"line_alpha\":{\"value\":0.1},\"line_color\":{\"value\":\"#1f77b4\"},\"top\":{\"field\":\"Caucasian\"},\"x\":{\"field\":\"age\"}},\"id\":\"9462\",\"type\":\"VBar\"},{\"attributes\":{\"fill_alpha\":{\"value\":0.1},\"fill_color\":{\"value\":\"#937860\"},\"hatch_alpha\":{\"value\":0.1},\"line_alpha\":{\"value\":0.1},\"line_color\":{\"value\":\"#1f77b4\"},\"top\":{\"field\":\"Asian\"},\"x\":{\"field\":\"age\"}},\"id\":\"9513\",\"type\":\"VBar\"},{\"attributes\":{},\"id\":\"9408\",\"type\":\"BasicTicker\"},{\"attributes\":{\"fill_color\":{\"value\":\"#55a868\"},\"line_color\":{\"value\":\"#1f77b4\"},\"top\":{\"field\":\"Caucasian\"},\"x\":{\"field\":\"age\"}},\"id\":\"9461\",\"type\":\"VBar\"},{\"attributes\":{\"axis\":{\"id\":\"9403\"},\"coordinates\":null,\"group\":null,\"ticker\":null},\"id\":\"9406\",\"type\":\"Grid\"},{\"attributes\":{\"fill_alpha\":{\"value\":0.2},\"fill_color\":{\"value\":\"#4c72b0\"},\"hatch_alpha\":{\"value\":0.2},\"line_alpha\":{\"value\":0.2},\"line_color\":{\"value\":\"#1f77b4\"},\"top\":{\"field\":\"Other\"},\"x\":{\"field\":\"age\"}},\"id\":\"9428\",\"type\":\"VBar\"},{\"attributes\":{\"coordinates\":null,\"data_source\":{\"id\":\"9391\"},\"glyph\":{\"id\":\"9444\"},\"group\":null,\"hover_glyph\":null,\"muted_glyph\":{\"id\":\"9446\"},\"nonselection_glyph\":{\"id\":\"9445\"},\"view\":{\"id\":\"9448\"}},\"id\":\"9447\",\"type\":\"GlyphRenderer\"},{\"attributes\":{\"fill_color\":{\"value\":\"#937860\"},\"line_color\":{\"value\":\"#1f77b4\"},\"top\":{\"field\":\"Asian\"},\"x\":{\"field\":\"age\"}},\"id\":\"9512\",\"type\":\"VBar\"},{\"attributes\":{},\"id\":\"9404\",\"type\":\"BasicTicker\"},{\"attributes\":{\"label\":{\"value\":\"Other\"},\"renderers\":[{\"id\":\"9429\"}]},\"id\":\"9442\",\"type\":\"LegendItem\"},{\"attributes\":{\"axis_label\":\"Age\",\"coordinates\":null,\"formatter\":{\"id\":\"9436\"},\"group\":null,\"major_label_policy\":{\"id\":\"9437\"},\"ticker\":{\"id\":\"9404\"}},\"id\":\"9403\",\"type\":\"LinearAxis\"},{\"attributes\":{\"source\":{\"id\":\"9391\"}},\"id\":\"9465\",\"type\":\"CDSView\"},{\"attributes\":{\"fill_alpha\":{\"value\":0.2},\"fill_color\":{\"value\":\"#55a868\"},\"hatch_alpha\":{\"value\":0.2},\"line_alpha\":{\"value\":0.2},\"line_color\":{\"value\":\"#1f77b4\"},\"top\":{\"field\":\"Caucasian\"},\"x\":{\"field\":\"age\"}},\"id\":\"9463\",\"type\":\"VBar\"},{\"attributes\":{\"source\":{\"id\":\"9391\"}},\"id\":\"9516\",\"type\":\"CDSView\"},{\"attributes\":{\"fill_alpha\":{\"value\":0.1},\"fill_color\":{\"value\":\"#dd8452\"},\"hatch_alpha\":{\"value\":0.1},\"line_alpha\":{\"value\":0.1},\"line_color\":{\"value\":\"#1f77b4\"},\"top\":{\"field\":\"African-American\"},\"x\":{\"field\":\"age\"}},\"id\":\"9445\",\"type\":\"VBar\"},{\"attributes\":{\"axis\":{\"id\":\"9407\"},\"coordinates\":null,\"dimension\":1,\"group\":null,\"ticker\":null},\"id\":\"9410\",\"type\":\"Grid\"},{\"attributes\":{\"fill_alpha\":{\"value\":0.2},\"fill_color\":{\"value\":\"#937860\"},\"hatch_alpha\":{\"value\":0.2},\"line_alpha\":{\"value\":0.2},\"line_color\":{\"value\":\"#1f77b4\"},\"top\":{\"field\":\"Asian\"},\"x\":{\"field\":\"age\"}},\"id\":\"9514\",\"type\":\"VBar\"},{\"attributes\":{},\"id\":\"9433\",\"type\":\"BasicTickFormatter\"},{\"attributes\":{},\"id\":\"9416\",\"type\":\"HelpTool\"},{\"attributes\":{},\"id\":\"9401\",\"type\":\"LinearScale\"},{\"attributes\":{\"fill_color\":{\"value\":\"#dd8452\"},\"line_color\":{\"value\":\"#1f77b4\"},\"top\":{\"field\":\"African-American\"},\"x\":{\"field\":\"age\"}},\"id\":\"9444\",\"type\":\"VBar\"},{\"attributes\":{},\"id\":\"9395\",\"type\":\"DataRange1d\"},{\"attributes\":{\"fill_alpha\":{\"value\":0.1},\"fill_color\":{\"value\":\"#4c72b0\"},\"hatch_alpha\":{\"value\":0.1},\"line_alpha\":{\"value\":0.1},\"line_color\":{\"value\":\"#1f77b4\"},\"top\":{\"field\":\"Other\"},\"x\":{\"field\":\"age\"}},\"id\":\"9427\",\"type\":\"VBar\"},{\"attributes\":{\"fill_alpha\":{\"value\":0.1},\"fill_color\":{\"value\":\"#8172b3\"},\"hatch_alpha\":{\"value\":0.1},\"line_alpha\":{\"value\":0.1},\"line_color\":{\"value\":\"#1f77b4\"},\"top\":{\"field\":\"Native American\"},\"x\":{\"field\":\"age\"}},\"id\":\"9496\",\"type\":\"VBar\"},{\"attributes\":{\"label\":{\"value\":\"Asian\"},\"renderers\":[{\"id\":\"9515\"}]},\"id\":\"9527\",\"type\":\"LegendItem\"},{\"attributes\":{},\"id\":\"9439\",\"type\":\"Selection\"},{\"attributes\":{\"source\":{\"id\":\"9391\"}},\"id\":\"9430\",\"type\":\"CDSView\"},{\"attributes\":{\"source\":{\"id\":\"9391\"}},\"id\":\"9448\",\"type\":\"CDSView\"},{\"attributes\":{\"fill_alpha\":{\"value\":0.2},\"fill_color\":{\"value\":\"#dd8452\"},\"hatch_alpha\":{\"value\":0.2},\"line_alpha\":{\"value\":0.2},\"line_color\":{\"value\":\"#1f77b4\"},\"top\":{\"field\":\"African-American\"},\"x\":{\"field\":\"age\"}},\"id\":\"9446\",\"type\":\"VBar\"},{\"attributes\":{\"fill_color\":{\"value\":\"#8172b3\"},\"line_color\":{\"value\":\"#1f77b4\"},\"top\":{\"field\":\"Native American\"},\"x\":{\"field\":\"age\"}},\"id\":\"9495\",\"type\":\"VBar\"},{\"attributes\":{\"label\":{\"value\":\"African-American\"},\"renderers\":[{\"id\":\"9447\"}]},\"id\":\"9459\",\"type\":\"LegendItem\"},{\"attributes\":{\"coordinates\":null,\"data_source\":{\"id\":\"9391\"},\"glyph\":{\"id\":\"9461\"},\"group\":null,\"hover_glyph\":null,\"muted_glyph\":{\"id\":\"9463\"},\"nonselection_glyph\":{\"id\":\"9462\"},\"view\":{\"id\":\"9465\"}},\"id\":\"9464\",\"type\":\"GlyphRenderer\"},{\"attributes\":{\"source\":{\"id\":\"9391\"}},\"id\":\"9499\",\"type\":\"CDSView\"}],\"root_ids\":[\"9392\"]},\"title\":\"Bokeh Application\",\"version\":\"2.4.2\"}};\n  const render_items = [{\"docid\":\"1c08c79d-767e-4c41-9d28-0a79e4b34fda\",\"notebook_comms_target\":\"9784\",\"root_ids\":[\"9392\"],\"roots\":{\"9392\":\"3825d677-27f3-458f-9adc-3a0138d531b4\"}}];\n  root.Bokeh.embed.embed_items_notebook(docs_json, render_items);\n\n  }\n  if (root.Bokeh !== undefined) {\n    embed_document(root);\n  } else {\n    let attempts = 0;\n    const timer = setInterval(function(root) {\n      if (root.Bokeh !== undefined) {\n        clearInterval(timer);\n        embed_document(root);\n      } else {\n        attempts++;\n        if (attempts > 100) {\n          clearInterval(timer);\n          console.log(\"Bokeh: ERROR: Unable to run BokehJS code because BokehJS library is missing\");\n        }\n      }\n    }, 10, root)\n  }\n})(window);",
      "application/vnd.bokehjs_exec.v0+json": ""
     },
     "metadata": {
      "application/vnd.bokehjs_exec.v0+json": {
       "id": "9392"
      }
     },
     "output_type": "display_data"
    },
    {
     "data": {
      "text/html": [
       "<p><code>&lt;Bokeh Notebook handle for <strong>In[145]</strong>&gt;</code></p>"
      ],
      "text/plain": [
       "<bokeh.io.notebook.CommsHandle at 0x15d1365e0>"
      ]
     },
     "execution_count": 145,
     "metadata": {},
     "output_type": "execute_result"
    }
   ],
   "source": [
    "# 1.1\n",
    "# a)\n",
    "D1 = pd.DataFrame(index=np.sort(D.age.unique()), columns=D.race.unique())\n",
    "for age in D1.index:\n",
    "    for race in D1.columns:\n",
    "        D1[race][age] = ((D['age'] == age) & (D['race'] == race)).sum()\n",
    "D1['age'] = D1.index\n",
    "races = D.race.unique()\n",
    "\n",
    "# b)\n",
    "CDS = ColumnDataSource(D1)\n",
    "\n",
    "# c)\n",
    "p = figure(title=\"Great title\", x_axis_label='Age', y_axis_label='Occurences')\n",
    "bar = {} # to store vbars\n",
    "# here we will do a for loop to create a bar for each race\n",
    "for indx, race in enumerate(D.race.unique()):\n",
    "        bar[race] = p.vbar(x=\"age\", top=race, source=CDS, legend_label=race, fill_color = sns.color_palette(n_colors = len(races)).as_hex()[indx])#, ..., muted = ...) \n",
    "\n",
    "p.legend.click_policy=\"mute\" #assigns the click policy (you can try to use ''hide')\n",
    "show(p, notebook_handle=True) #displays your plot"
   ]
  },
  {
   "cell_type": "markdown",
   "metadata": {},
   "source": [
    "> *Exercise 1.1:* Interactive data exploration. The aim of this exercise is to compare bar plots for different races. Each bar plot will have age on the x-axis and number of samples in the data on the y-axis. Follow the steps below for success:\n",
    ">\n",
    "> * Compute the number of samples by age for each race. You should end up with a dataframe that looks like [this](https://github.com/suneman/socialdata2022/blob/main/files/bokeh-df1.png).\n",
    "> * Convert your `DataFrame` to Bokeh `ColumnDataSource`.\n",
    "> * Create an empty figure, you can find the a guide to define a figure in Bokeh online. Here, a little help:\n",
    "> ```python\n",
    "p = figure(ADD_PARAMS_HERE) #p is a standard way to call figures in Bokeh\n",
    "#do not forget to add attributes to the figure, e.g. title, axis names, etc.\n",
    "> ```\n",
    "> * Add bars by using `p.vbar()` as follows:\n",
    "> ```python\n",
    "    bar ={} # to store vbars \n",
    "    # here we will do a for loop to create a bar for each race\n",
    "    for indx,i in enumerate(races):\n",
    "         bar[i] = p.vbar(x=ADD_AGE_COLUMN_NAME,  top=i, source= ADD_YOUR_DATA, legend_label=i, ..., muted = ...) \n",
    "> ```\n",
    "> * Make your legend interactive and display the figure:\n",
    "> ```python\n",
    "    p.legend.click_policy=\"mute\" #assigns the click policy (you can try to use ''hide')\n",
    "    show(p) #displays your plot\n",
    "> ```\n",
    "> * You will notice that the legend appears in the middle of the figure (and it ocludes some of the data). In order to fix this look into [this guide](https://stackoverflow.com/questions/26254619/position-of-the-legend-in-a-bokeh-plot) as a start. Below are some code snippets that you can use to deal with this problem (but read the guide first):\n",
    "> ```python\n",
    "    items = [] # for the custom legend // you need to figure out where to add it\n",
    "    items.append((i, [bar[i]])) # figure out where to add it\n",
    "    legend = Legend(items=..., location=.....) # figure out where to add it\n",
    "    p.add_layout(...., ...) # figure where to add it\n",
    "    # if you read the guide, it will make sense :)\n",
    "> ```\n",
    "> * And now you have it! You can play with colors and other parameters to make it as you like, but first describe your plot. What do you observe?"
   ]
  },
  {
   "cell_type": "markdown",
   "metadata": {},
   "source": [
    "During Week 6 I asked you to visualize a bar plot with the fraction of recommitted crimes over total number of records per race, e.g. the number of recommitted crimes of African-Americans over the total number of crimes of African-Americans, etc. You should have obtained something like [this](https://github.com/suneman/socialdata2022/blob/main/files/frac_recommit_race.png). If we look at this plot we observe that all races but Asian have fraction of recommitted crimes above $30\\%$, and African-Americans have the highest fraction, i.e. above $50\\%$. However, is this the whole story? Let's have a look at this data from a different angle!\n",
    "\n",
    "> *Exercise 1.2:* fraction of crimes - a different perspective. In this exercise, we are going to create an interactive scatter plot, where each point is a race, with position given by the number of total samples in the race category on the x-axis and the number of recommitted crimes in the race category on the y-axis. Moreover, each point will have a size given by the fraction computed in Week 6. Follow these steps for success:\n",
    "> * Create a `DataFrame` with `race` as index and the following columns: \n",
    ">     * `n_samples`, i.e. number of samples for each race,\n",
    ">     * `n_rec_crimes`, i.e. number of recommitted crimes for each race,\n",
    ">     * `frac_crimes`, i.e. `n_rec_crimes/n_samples`.\n",
    "> * Convert the dataframe into a `ColumnDataSource` and create an empty figure.\n",
    "> * Add points in your figure by using \n",
    "> ```python\n",
    ">   p.circle(ADD_X_COLUMN,ADD_Y_COLUMN, size=..., source=..., ...)\n",
    "> ```\n",
    "> * Add a `HoverTool()` so that when hovering over a circle both race and size are displayed.\n",
    "> * You can change colors of the data points by passing an additional color column to `p.circle()`.\n",
    "> * And now a couple of questions: Explain what you observe. What does this plot shows that the fraction of crimes alone didn't? Do you think the data we are using is representative? What could be some possible issues with this data? \n",
    "\n",
    "Once answered the questions above, **take a minute and discuss** your thoughts with your neighbour or one of your group members."
   ]
  },
  {
   "cell_type": "code",
   "execution_count": null,
   "metadata": {},
   "outputs": [],
   "source": [
    "# 1.2\n",
    "# a)\n"
   ]
  },
  {
   "cell_type": "markdown",
   "metadata": {},
   "source": [
    "<details>\n",
    "    <summary>Ok, it is now time to uncover where this data is coming from. <b>Only click on this cell to open it after you have completed the exercise above</b></summary>\n",
    "    The data we are using is related to:\n",
    "    <ul>\n",
    "        <li> <b>COMPAS</b> (Correctional Offender Management Profiling for Alternative Sanctions), a <a href=https://towardsdatascience.com/compas-case-study-fairness-of-a-machine-learning-model-f0f804108751>popular commercial algorithm</a> used by judges and parole officers for scoring criminal defendant’s likelihood of reoffending (recidivism).  </li>\n",
    "        <li> Multiple works have shown that the algorithm is biased towards non-caucasian people. <b>ProPublica</b> has published an <a href=https://www.propublica.org/article/how-we-analyzed-the-compas-recidivism-algorithm>extensive work</a> on the topic. </li>\n",
    "    </ul>\n",
    "</details>"
   ]
  },
  {
   "cell_type": "markdown",
   "metadata": {},
   "source": [
    "## Part 2: Visualize the results of a Machine Learning model"
   ]
  },
  {
   "cell_type": "markdown",
   "metadata": {},
   "source": [
    "Above, we had a deeper look at the recidivism dataset and the visualizations we created highlighted some possible issues/imbalances with the data and especially with race. \n",
    "\n",
    "If you had a look at the hidden information cell above, now you know what the problems are with this dataset and with using it to predict recidivism. During Week 6, you trained a classification model to predict criminal recidivism on this data. Now, a question might rise... Is your model biased? If yes, can you do anything about it?\n",
    "\n",
    "You will now use visualization to better understand the results of your model. This is one of the reasons why visualization is so powerful. Not only it allows us to explore data and create an understanding of the different aspects of it, but it also allows us to understand ML models and their performance!\n",
    "\n",
    "In the next exercise, use the model you have trained/tested in Week 6 by using only the columns selected in Week 6, Exercise 3.1 and by preprocessing as in Exercise 3.2."
   ]
  },
  {
   "cell_type": "markdown",
   "metadata": {},
   "source": [
    "> *Exercise 2:* Evaluating the quality of predictions. One of the simplest ways to get a glimpse into the performance of an classification model is to look at the [Confustion Matrix](https://towardsdatascience.com/understanding-confusion-matrix-a9ad42dcfd62).\n",
    ">\n",
    "> * Create a confusion matrix that evaluates the performance of your model. What do you observe?\n",
    "> * Now, create a confusion matrix for specific groups:\n",
    ">    * Take targets and predictions only for *Caucasians*,\n",
    ">    * Take targets and predictions only for *African-Americans*.\n",
    ">    * Create a confusion matrix for each group. What do you see when you compare the two confusion matrices? Explain in your own words how this might affect the overall fairness of your model.\n",
    "\n",
    "Again, after giving an answer to the questions above, **take a minute and discuss** your thoughts with your neighbour or one of your group members."
   ]
  },
  {
   "cell_type": "markdown",
   "metadata": {},
   "source": [
    "<details>\n",
    "    <summary> Exercise 2 interpretation hint <b>(Only open after you have completed the exercise above)</b></summary>\n",
    "    <ul>\n",
    "        <li>It seems that our model has higher number of <b>False-Positives</b> or <b>False-Negatives</b> for different groups of people. Go back to Exercise 2 if you did not spot this difference and think at the related implication. </li>\n",
    "      <li>Several researchers also noticed this issue. The following essay by Ellora Thadaney Israni describes the potential issues with the algorithm and data: <a href = https://www.nytimes.com/2017/10/26/opinion/algorithm-compas-sentencing-bias.html> When an Algorithm Helps Send You to Prison </a> (If you don't have access to it you can find the article on DTU Learn -> Course Content -> Content -> Lecture 7 reading)</li>\n",
    "    </ul>\n",
    "</details>"
   ]
  },
  {
   "cell_type": "markdown",
   "metadata": {},
   "source": [
    "## Part 3: Fairness and bias in Machine Learning"
   ]
  },
  {
   "cell_type": "markdown",
   "metadata": {},
   "source": [
    "Before we try to fix our model, let's understand bias better and get some intuition about it. In the video below I summarize different types of bias. \n",
    "\n",
    "[![IMAGE ALT TEXT HERE](https://img.youtube.com/vi/tcz800ZXclA/0.jpg)](https://www.youtube.com/watch?v=tcz800ZXclA)"
   ]
  },
  {
   "cell_type": "markdown",
   "metadata": {},
   "source": [
    ">*Exercise 3.1:* Have you watched the video? A few questions to make sure you did.\n",
    "> * What does **data bias** mean?\n",
    "> * What are the most common types of data bias? \n",
    "> * Choose two types of data bias and explain them by also providing some examples.\n",
    "> * How can data bias be identified? \n",
    "> * At what step of the process can we correct for bias?\n",
    "> * What do you think are the potential bias sources in our case-study (i.e. recidivism)?"
   ]
  },
  {
   "cell_type": "markdown",
   "metadata": {},
   "source": [
    "Alright, now we know a bit more about bias... but how do we correct it in practice? There are many ways, and you are going to test a couple of methods to correct the predictions on recidivism to enhance the fairness of your model.\n",
    "\n",
    "Germans and I had a nice chat about it and recorded a video to introduce you with two methods: *Demographic Pairity* and *Equal Odds*!\n",
    "\n",
    "[![IMAGE ALT TEXT HERE](https://img.youtube.com/vi/DHz1xDKT4xw/0.jpg)](https://www.youtube.com/watch?v=DHz1xDKT4xw)"
   ]
  },
  {
   "cell_type": "markdown",
   "metadata": {},
   "source": [
    "In the following exercises we are going to focus only on the *African-American* and *Caucasian* groups as they have more data samples in our data (however, you can repeat the steps for other demographics too!)."
   ]
  },
  {
   "cell_type": "markdown",
   "metadata": {},
   "source": [
    "> *Exercise 3.2:* Demographic Parity. In this exercise, we are going to implement the function for Demographic Parity and apply it to the results of your ML model (i.e. on the predictions of the Test set).\n",
    ">\n",
    "> * Compute the probability of predicting recidivism ($\\hat{y}=1$) for the two populations, i.e. $P_{AA}$ for African-American and $P_{CA}$ for Caucasian. What do you observe?\n",
    "> * To debias the output you need to:\n",
    ">    * Compute the threshold as $th = 1 - \\frac{P_{CA}}{P_{AA}}$;\n",
    ">    * randomly flip positive prediction to negative (1s to 0s), i.e. pick a random number $n\\in\\left[0,1\\right)$ from a uniform distribution and flip a positive prediction if $n < th$.\n",
    "> * Recompute the probabilities $P_{CA}$ and $P_{AA}$ (only now they are corrected). What do you observe?\n",
    "> * Plot the confusion matrices with the corrected values. What do you observe?\n",
    "> * Explain what could be the issue with this method. We have discussed it in the video 😉"
   ]
  },
  {
   "cell_type": "markdown",
   "metadata": {},
   "source": [
    "You are almost there! In the following you will use the Equal Odds method to correct your predictions. It seems long, but don't worry it is because I added a bit more code, steps, hints for this one."
   ]
  },
  {
   "cell_type": "markdown",
   "metadata": {},
   "source": [
    "> *Exercise 3.3:* Equal Odds. As in the exercise above we are going to use the results of you ML model on the test set.\n",
    "> * This method takes into account the predictions of your model $\\hat{y}$ for different thresholds $th$:\n",
    ">    * Get the probabilities out of your model by using `y_prob = model.predict_proba(X_test)` (here, `model` is your model).\n",
    ">    * Define the thresholds as `ths = np.linspace(1e-5,1-1e-5, 10)` (you can edit this one to have different thresholds). Now, you can find $\\hat{y}$ as:\n",
    ">\n",
    ">\n",
    ">$$\\begin{cases}\\hat{y}=1, \\mbox{ if } y_{prob} > th \\\\ \\hat{y}=0, \\mbox{ otherwhise}\\end{cases}$$\n",
    ">\n",
    ">\n",
    "> * Implement a function that takes as an input $y$ (i.e the target labels), $\\hat{y}$, and `ths` and returns the true-positive rate $TPR$ and the false-positive rate $FPR$ (definitions in the video above).\n",
    "> * Now, you need to find the thresholds that lead to the closest points for the two groups on the [ROC curve](https://en.wikipedia.org/wiki/Receiver_operating_characteristic). The first way is by using the functions below in your code to find the thresholds that lead to the smaller distance (**but suitable FPR and TPR**):\n",
    "> ```python\n",
    "    #This function takes as an input y, y_probs, thr \n",
    "    #and returns the points to plot the ROC curve and their threshold\n",
    "    def roc_curve(y, y_probs, ths):\n",
    "        #initialize roc as an empty np.array\n",
    "        roc = np.array([])\n",
    "        #loop over thresholds\n",
    "        for th in ths:\n",
    "          #convert y_prob in y_hat\n",
    "          y_hat = ADD_YOUR_FUNCTION_HERE(y_prob,th)\n",
    "          #compute TPR and FPR\n",
    "          TPR, FPR = ADD_YOUR_FUNCTION_HERE(y, y_hat)\n",
    "          #add threshold and point to roc array\n",
    "          roc = np.append(roc, [th, FPR, TPR])\n",
    "       #return roc\n",
    "       return roc.reshape(-1, 3)\n",
    "> ```\n",
    "> ```python\n",
    "    #This function takes as an input the points from one roc (first group) and the other (second group) and order the points by their distance in ascending order \n",
    "    def closest_points(points1, points2):\n",
    "        #initialize result\n",
    "        res = list()\n",
    "        #loop over points in group 1\n",
    "        for pi in points1:\n",
    "          #loop over points in group 2\n",
    "          for pj in points2:\n",
    "            #add points and their distance to res\n",
    "            res.append(((pi, pj), np.linalg.norm(pi[1:] - pj[1:])))\n",
    "        #return sorted result\n",
    "        return sorted(res, key = lambda x: x[1])\n",
    "> ```\n",
    "> * The second way is by visualizing the ROC curves. Let's do it with Bokeh:\n",
    ">     * Get the two ROC curves with the function `roc_curve` above and call them `roc_aa` (for African-Americans) and `roc_ca` (for Caucasian).\n",
    ">     * Create a `DataFrame` called `df_roc` with columns `FPR_AA`, `TPR_AA`, `FPR_CA`, `TPR_CA`, with the FPR and TPR values for both groups. Convert the dataframe into a Bokeh `ColumnDataSource`.\n",
    ">     * Create an empty bokeh figure and add labels and title (we will have FPR on the x-axis and TPR on the y-axis)\n",
    ">     * Add two `p.line()` by passing the values from your dataframe for one group and then the other. You should now see the plot with both lines. Use colors and other parameters to customize it as you like\n",
    ">     * Finally, we need to add one last thing: interactive points that will show the thresholds. The easiest way I found to do this was to create a second `DataFrame` with columns `x`, `y`, `th` where x is the combined list of `FPR_AA` and `FPR_CA`, y is the combined list of `TPR_AA` and `TPR_CA`, and th is the threshold list repeated twice. Convert this dataframe into a Bokeh `ColumnDataSource` as usual and add the points to the plot with \n",
    "> ```python\n",
    "> cr = p.circle('x','y',source=..., fill_color=..., hover_fill_color=...) \n",
    "> ````\n",
    "> you can make them interactive by adding the following line of code:\n",
    "> ```python \n",
    ">    p.add_tools(HoverTool(tooltips=[('Threshold', '@th')], renderers=[cr]))\n",
    "> ```\n",
    "> * Use the two methods above to find a threshold for each group. What threshold did you find?\n",
    "> * Debias the output by computing $\\hat{y}$ for the two groups with the thresholds you found. Now plot the confusion matrices for African-Americans and Caucasian again. What do you observe? \n",
    "> * We ended the video by saying that there might be still a problem with the methods we have used to de-bias data. What do you think the problem is? **Hint**: it is related to the [following article](https://en.wikipedia.org/wiki/Protected_group). Skim through it to get an idea!"
   ]
  },
  {
   "cell_type": "markdown",
   "metadata": {},
   "source": [
    "Well done! It is now time for you to have a break, relax and be proud of the awesome work you have done!! But before you go, please <mark> take a minute of your time (it is really one minute) to fill this [form](https://forms.gle/fbUXFxmJ283cKGvy6). Thank you so much! </mark>"
   ]
  }
 ],
 "metadata": {
  "kernelspec": {
   "display_name": "Python 3",
   "language": "python",
   "name": "python3"
  },
  "language_info": {
   "codemirror_mode": {
    "name": "ipython",
    "version": 3
   },
   "file_extension": ".py",
   "mimetype": "text/x-python",
   "name": "python",
   "nbconvert_exporter": "python",
   "pygments_lexer": "ipython3",
   "version": "3.9.7"
  }
 },
 "nbformat": 4,
 "nbformat_minor": 4
}
