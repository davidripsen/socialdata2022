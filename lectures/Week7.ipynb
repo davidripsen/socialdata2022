{
 "cells": [
  {
   "cell_type": "markdown",
   "metadata": {},
   "source": [
    "## Intro\n",
    "\n",
    "Last week you had an intro to classification tasks and decision trees. You worked on a model to predict criminal recidivism and made a few visualizations along the way. \n",
    "\n",
    "Some of you asked: why Machine Learning? And, even though modeling is part of analysing data and predictions are a huge part of how people use data nowadays, there is something more important to it: visualization are not only powerful to study data, they are also great to understand models. We needed that little extra Machine Learning to explore another way of using visualizations. \n",
    "\n",
    "Today, we will do exactly this! The purpose of today's class is threefold: \n",
    "\n",
    "1. To explore the data I gave you last week with **interactive visualizations**;\n",
    "2. To **visualize the results** on criminal recidivism of your machine learning model;\n",
    "3. To **debias** the results you obtained via two methods (and a bit of visualization along the way). "
   ]
  },
  {
   "cell_type": "markdown",
   "metadata": {},
   "source": [
    "## Part 1: Interactive visualizations with Bokeh\n",
    "\n",
    "Until today we have worked with static data visualization. However, exploratory data analysis means to be able to explore the multi-faceted nature of data and *interactive dataviz* is a handy tool to do it! It allows to play with the data: Toggle the view. Zoom. Drag. Show more details. All those things. Those are a key part of modern data visualization. \n",
    "\n",
    "To really master interactive visualizations, you should check out methods in JavaScript, especially [D3](https://d3js.org). Given that we only have 5ECTS for this class, we unfortunately don't have time for that. But luckily Python has some pretty good options for interactive visualizations. [Here](https://mode.com/blog/python-interactive-plot-libraries/), you can find some of them.\n",
    "\n",
    "Today, we'll explore [`Bokeh`](https://docs.bokeh.org/en/latest/), which provides lots of nice interactive funtionalities to Python. To work with Bokeh, we first need to do some preparation:\n",
    "1. If you haven't installed it yet please do so. You can simply follow [these steps](https://docs.bokeh.org/en/latest/docs/first_steps/installation.html)\n",
    "2. To include Bokeh in your notebooks you can follow the [Bokeh: Using with Jupyter](https://docs.bokeh.org/en/latest/docs/user_guide/jupyter.html#userguide-jupyter-notebook) guide. Come back to this one when you need it\n",
    "3. We aim to give you a gentle start with Bokeh and I am going to include more example codes than usual in the follwing. However, to get a sense of how things work, I suggest you surf the web, find a Bokeh tutorial and scan through it. Also click around a bit in [the official docs](https://docs.bokeh.org/en/latest/docs/user_guide.html#userguide).\n",
    "\n",
    "In the exercises below, we will use the data from [GitHub](https://raw.githubusercontent.com/suneman/socialdata2022/main/files/recidivism_dataset_sub.csv):\n",
    "1. Load the data and select the columns as in Week 6, Exercise 3.1\n",
    "2. Preprocess the data as in Week 6, Exercise 3.2.\n",
    "\n",
    "Ok, let's get started!"
   ]
  },
  {
   "cell_type": "code",
   "execution_count": 7,
   "metadata": {},
   "outputs": [
    {
     "data": {
      "text/plain": [
       "(7214, 11)"
      ]
     },
     "execution_count": 7,
     "metadata": {},
     "output_type": "execute_result"
    }
   ],
   "source": [
    "#### My answer\n",
    "import pandas as pd\n",
    "import numpy as np\n",
    "from matplotlib import pyplot as plt\n",
    "from sklearn.model_selection import train_test_split\n",
    "from sklearn.ensemble import GradientBoostingClassifier, RandomForestClassifier\n",
    "from sklearn.pipeline import Pipeline\n",
    "import seaborn as sns\n",
    "sns.set_theme()\n",
    "%matplotlib inline\n",
    "\n",
    "url = 'https://raw.githubusercontent.com/suneman/socialdata2022/main/files/recidivism_dataset_sub.csv'\n",
    "Xvar = ['age', 'sex', 'race', 'juv_fel_count', 'juv_misd_count', 'juv_other_count', 'priors_count', 'is_recid', 'days_b_screening_arrest','c_charge_degree']\n",
    "yvar = ['two_year_recid']\n",
    "\n",
    "Dfull = pd.read_csv(url)  # OMG :)) !\n",
    "D = Dfull[Xvar + yvar]\n",
    "D.shape"
   ]
  },
  {
   "cell_type": "code",
   "execution_count": 9,
   "metadata": {},
   "outputs": [
    {
     "data": {
      "text/html": [
       "\n",
       "    <div class=\"bk-root\">\n",
       "        <a href=\"https://bokeh.org\" target=\"_blank\" class=\"bk-logo bk-logo-small bk-logo-notebook\"></a>\n",
       "        <span id=\"2172\">Loading BokehJS ...</span>\n",
       "    </div>"
      ]
     },
     "metadata": {},
     "output_type": "display_data"
    },
    {
     "data": {
      "application/javascript": "\n(function(root) {\n  function now() {\n    return new Date();\n  }\n\n  const force = true;\n\n  if (typeof root._bokeh_onload_callbacks === \"undefined\" || force === true) {\n    root._bokeh_onload_callbacks = [];\n    root._bokeh_is_loading = undefined;\n  }\n\n  const JS_MIME_TYPE = 'application/javascript';\n  const HTML_MIME_TYPE = 'text/html';\n  const EXEC_MIME_TYPE = 'application/vnd.bokehjs_exec.v0+json';\n  const CLASS_NAME = 'output_bokeh rendered_html';\n\n  /**\n   * Render data to the DOM node\n   */\n  function render(props, node) {\n    const script = document.createElement(\"script\");\n    node.appendChild(script);\n  }\n\n  /**\n   * Handle when an output is cleared or removed\n   */\n  function handleClearOutput(event, handle) {\n    const cell = handle.cell;\n\n    const id = cell.output_area._bokeh_element_id;\n    const server_id = cell.output_area._bokeh_server_id;\n    // Clean up Bokeh references\n    if (id != null && id in Bokeh.index) {\n      Bokeh.index[id].model.document.clear();\n      delete Bokeh.index[id];\n    }\n\n    if (server_id !== undefined) {\n      // Clean up Bokeh references\n      const cmd_clean = \"from bokeh.io.state import curstate; print(curstate().uuid_to_server['\" + server_id + \"'].get_sessions()[0].document.roots[0]._id)\";\n      cell.notebook.kernel.execute(cmd_clean, {\n        iopub: {\n          output: function(msg) {\n            const id = msg.content.text.trim();\n            if (id in Bokeh.index) {\n              Bokeh.index[id].model.document.clear();\n              delete Bokeh.index[id];\n            }\n          }\n        }\n      });\n      // Destroy server and session\n      const cmd_destroy = \"import bokeh.io.notebook as ion; ion.destroy_server('\" + server_id + \"')\";\n      cell.notebook.kernel.execute(cmd_destroy);\n    }\n  }\n\n  /**\n   * Handle when a new output is added\n   */\n  function handleAddOutput(event, handle) {\n    const output_area = handle.output_area;\n    const output = handle.output;\n\n    // limit handleAddOutput to display_data with EXEC_MIME_TYPE content only\n    if ((output.output_type != \"display_data\") || (!Object.prototype.hasOwnProperty.call(output.data, EXEC_MIME_TYPE))) {\n      return\n    }\n\n    const toinsert = output_area.element.find(\".\" + CLASS_NAME.split(' ')[0]);\n\n    if (output.metadata[EXEC_MIME_TYPE][\"id\"] !== undefined) {\n      toinsert[toinsert.length - 1].firstChild.textContent = output.data[JS_MIME_TYPE];\n      // store reference to embed id on output_area\n      output_area._bokeh_element_id = output.metadata[EXEC_MIME_TYPE][\"id\"];\n    }\n    if (output.metadata[EXEC_MIME_TYPE][\"server_id\"] !== undefined) {\n      const bk_div = document.createElement(\"div\");\n      bk_div.innerHTML = output.data[HTML_MIME_TYPE];\n      const script_attrs = bk_div.children[0].attributes;\n      for (let i = 0; i < script_attrs.length; i++) {\n        toinsert[toinsert.length - 1].firstChild.setAttribute(script_attrs[i].name, script_attrs[i].value);\n        toinsert[toinsert.length - 1].firstChild.textContent = bk_div.children[0].textContent\n      }\n      // store reference to server id on output_area\n      output_area._bokeh_server_id = output.metadata[EXEC_MIME_TYPE][\"server_id\"];\n    }\n  }\n\n  function register_renderer(events, OutputArea) {\n\n    function append_mime(data, metadata, element) {\n      // create a DOM node to render to\n      const toinsert = this.create_output_subarea(\n        metadata,\n        CLASS_NAME,\n        EXEC_MIME_TYPE\n      );\n      this.keyboard_manager.register_events(toinsert);\n      // Render to node\n      const props = {data: data, metadata: metadata[EXEC_MIME_TYPE]};\n      render(props, toinsert[toinsert.length - 1]);\n      element.append(toinsert);\n      return toinsert\n    }\n\n    /* Handle when an output is cleared or removed */\n    events.on('clear_output.CodeCell', handleClearOutput);\n    events.on('delete.Cell', handleClearOutput);\n\n    /* Handle when a new output is added */\n    events.on('output_added.OutputArea', handleAddOutput);\n\n    /**\n     * Register the mime type and append_mime function with output_area\n     */\n    OutputArea.prototype.register_mime_type(EXEC_MIME_TYPE, append_mime, {\n      /* Is output safe? */\n      safe: true,\n      /* Index of renderer in `output_area.display_order` */\n      index: 0\n    });\n  }\n\n  // register the mime type if in Jupyter Notebook environment and previously unregistered\n  if (root.Jupyter !== undefined) {\n    const events = require('base/js/events');\n    const OutputArea = require('notebook/js/outputarea').OutputArea;\n\n    if (OutputArea.prototype.mime_types().indexOf(EXEC_MIME_TYPE) == -1) {\n      register_renderer(events, OutputArea);\n    }\n  }\n\n  \n  if (typeof (root._bokeh_timeout) === \"undefined\" || force === true) {\n    root._bokeh_timeout = Date.now() + 5000;\n    root._bokeh_failed_load = false;\n  }\n\n  const NB_LOAD_WARNING = {'data': {'text/html':\n     \"<div style='background-color: #fdd'>\\n\"+\n     \"<p>\\n\"+\n     \"BokehJS does not appear to have successfully loaded. If loading BokehJS from CDN, this \\n\"+\n     \"may be due to a slow or bad network connection. Possible fixes:\\n\"+\n     \"</p>\\n\"+\n     \"<ul>\\n\"+\n     \"<li>re-rerun `output_notebook()` to attempt to load from CDN again, or</li>\\n\"+\n     \"<li>use INLINE resources instead, as so:</li>\\n\"+\n     \"</ul>\\n\"+\n     \"<code>\\n\"+\n     \"from bokeh.resources import INLINE\\n\"+\n     \"output_notebook(resources=INLINE)\\n\"+\n     \"</code>\\n\"+\n     \"</div>\"}};\n\n  function display_loaded() {\n    const el = document.getElementById(\"2172\");\n    if (el != null) {\n      el.textContent = \"BokehJS is loading...\";\n    }\n    if (root.Bokeh !== undefined) {\n      if (el != null) {\n        el.textContent = \"BokehJS \" + root.Bokeh.version + \" successfully loaded.\";\n      }\n    } else if (Date.now() < root._bokeh_timeout) {\n      setTimeout(display_loaded, 100)\n    }\n  }\n\n\n  function run_callbacks() {\n    try {\n      root._bokeh_onload_callbacks.forEach(function(callback) {\n        if (callback != null)\n          callback();\n      });\n    } finally {\n      delete root._bokeh_onload_callbacks\n    }\n    console.debug(\"Bokeh: all callbacks have finished\");\n  }\n\n  function load_libs(css_urls, js_urls, callback) {\n    if (css_urls == null) css_urls = [];\n    if (js_urls == null) js_urls = [];\n\n    root._bokeh_onload_callbacks.push(callback);\n    if (root._bokeh_is_loading > 0) {\n      console.debug(\"Bokeh: BokehJS is being loaded, scheduling callback at\", now());\n      return null;\n    }\n    if (js_urls == null || js_urls.length === 0) {\n      run_callbacks();\n      return null;\n    }\n    console.debug(\"Bokeh: BokehJS not loaded, scheduling load and callback at\", now());\n    root._bokeh_is_loading = css_urls.length + js_urls.length;\n\n    function on_load() {\n      root._bokeh_is_loading--;\n      if (root._bokeh_is_loading === 0) {\n        console.debug(\"Bokeh: all BokehJS libraries/stylesheets loaded\");\n        run_callbacks()\n      }\n    }\n\n    function on_error(url) {\n      console.error(\"failed to load \" + url);\n    }\n\n    for (let i = 0; i < css_urls.length; i++) {\n      const url = css_urls[i];\n      const element = document.createElement(\"link\");\n      element.onload = on_load;\n      element.onerror = on_error.bind(null, url);\n      element.rel = \"stylesheet\";\n      element.type = \"text/css\";\n      element.href = url;\n      console.debug(\"Bokeh: injecting link tag for BokehJS stylesheet: \", url);\n      document.body.appendChild(element);\n    }\n\n    for (let i = 0; i < js_urls.length; i++) {\n      const url = js_urls[i];\n      const element = document.createElement('script');\n      element.onload = on_load;\n      element.onerror = on_error.bind(null, url);\n      element.async = false;\n      element.src = url;\n      console.debug(\"Bokeh: injecting script tag for BokehJS library: \", url);\n      document.head.appendChild(element);\n    }\n  };\n\n  function inject_raw_css(css) {\n    const element = document.createElement(\"style\");\n    element.appendChild(document.createTextNode(css));\n    document.body.appendChild(element);\n  }\n\n  \n  const js_urls = [\"https://cdn.bokeh.org/bokeh/release/bokeh-2.4.2.min.js\", \"https://cdn.bokeh.org/bokeh/release/bokeh-gl-2.4.2.min.js\", \"https://cdn.bokeh.org/bokeh/release/bokeh-widgets-2.4.2.min.js\", \"https://cdn.bokeh.org/bokeh/release/bokeh-tables-2.4.2.min.js\", \"https://cdn.bokeh.org/bokeh/release/bokeh-mathjax-2.4.2.min.js\"];\n  const css_urls = [];\n  \n\n  const inline_js = [\n    function(Bokeh) {\n      Bokeh.set_log_level(\"info\");\n    },\n    function(Bokeh) {\n    \n    \n    }\n  ];\n\n  function run_inline_js() {\n    \n    if (root.Bokeh !== undefined || force === true) {\n      \n    for (let i = 0; i < inline_js.length; i++) {\n      inline_js[i].call(root, root.Bokeh);\n    }\n    if (force === true) {\n        display_loaded();\n      }} else if (Date.now() < root._bokeh_timeout) {\n      setTimeout(run_inline_js, 100);\n    } else if (!root._bokeh_failed_load) {\n      console.log(\"Bokeh: BokehJS failed to load within specified timeout.\");\n      root._bokeh_failed_load = true;\n    } else if (force !== true) {\n      const cell = $(document.getElementById(\"2172\")).parents('.cell').data().cell;\n      cell.output_area.append_execute_result(NB_LOAD_WARNING)\n    }\n\n  }\n\n  if (root._bokeh_is_loading === 0) {\n    console.debug(\"Bokeh: BokehJS loaded, going straight to plotting\");\n    run_inline_js();\n  } else {\n    load_libs(css_urls, js_urls, function() {\n      console.debug(\"Bokeh: BokehJS plotting callback run at\", now());\n      run_inline_js();\n    });\n  }\n}(window));",
      "application/vnd.bokehjs_load.v0+json": ""
     },
     "metadata": {},
     "output_type": "display_data"
    },
    {
     "data": {
      "text/html": [
       "\n",
       "\n",
       "\n",
       "\n",
       "\n",
       "\n",
       "  <div class=\"bk-root\" id=\"56ba7aa3-5103-4fb9-93df-7a2e6e8209db\" data-root-id=\"2173\"></div>\n"
      ]
     },
     "metadata": {},
     "output_type": "display_data"
    },
    {
     "data": {
      "application/javascript": "(function(root) {\n  function embed_document(root) {\n    \n  const docs_json = {\"013dd4eb-ace9-4dbf-9f73-90c0fa3e4c36\":{\"defs\":[],\"roots\":{\"references\":[{\"attributes\":{\"below\":[{\"id\":\"2184\"}],\"center\":[{\"id\":\"2187\"},{\"id\":\"2191\"},{\"id\":\"2222\"}],\"left\":[{\"id\":\"2188\"}],\"renderers\":[{\"id\":\"2210\"}],\"title\":{\"id\":\"2174\"},\"toolbar\":{\"id\":\"2199\"},\"x_range\":{\"id\":\"2176\"},\"x_scale\":{\"id\":\"2180\"},\"y_range\":{\"id\":\"2178\"},\"y_scale\":{\"id\":\"2182\"}},\"id\":\"2173\",\"subtype\":\"Figure\",\"type\":\"Plot\"},{\"attributes\":{\"axis\":{\"id\":\"2184\"},\"coordinates\":null,\"group\":null,\"ticker\":null},\"id\":\"2187\",\"type\":\"Grid\"},{\"attributes\":{},\"id\":\"2215\",\"type\":\"AllLabels\"},{\"attributes\":{},\"id\":\"2185\",\"type\":\"BasicTicker\"},{\"attributes\":{\"data\":{\"x\":[1,2,3,4],\"y\":[1,4,9,16]},\"selected\":{\"id\":\"2220\"},\"selection_policy\":{\"id\":\"2219\"}},\"id\":\"2206\",\"type\":\"ColumnDataSource\"},{\"attributes\":{\"coordinates\":null,\"data_source\":{\"id\":\"2206\"},\"glyph\":{\"id\":\"2207\"},\"group\":null,\"hover_glyph\":null,\"muted_glyph\":{\"id\":\"2209\"},\"nonselection_glyph\":{\"id\":\"2208\"},\"view\":{\"id\":\"2211\"}},\"id\":\"2210\",\"type\":\"GlyphRenderer\"},{\"attributes\":{},\"id\":\"2180\",\"type\":\"LinearScale\"},{\"attributes\":{},\"id\":\"2189\",\"type\":\"BasicTicker\"},{\"attributes\":{},\"id\":\"2193\",\"type\":\"WheelZoomTool\"},{\"attributes\":{\"bottom_units\":\"screen\",\"coordinates\":null,\"fill_alpha\":0.5,\"fill_color\":\"lightgrey\",\"group\":null,\"left_units\":\"screen\",\"level\":\"overlay\",\"line_alpha\":1.0,\"line_color\":\"black\",\"line_dash\":[4,4],\"line_width\":2,\"right_units\":\"screen\",\"syncable\":false,\"top_units\":\"screen\"},\"id\":\"2198\",\"type\":\"BoxAnnotation\"},{\"attributes\":{\"axis_label\":\"great y-label\",\"coordinates\":null,\"formatter\":{\"id\":\"2214\"},\"group\":null,\"major_label_policy\":{\"id\":\"2215\"},\"ticker\":{\"id\":\"2189\"}},\"id\":\"2188\",\"type\":\"LinearAxis\"},{\"attributes\":{},\"id\":\"2219\",\"type\":\"UnionRenderers\"},{\"attributes\":{},\"id\":\"2220\",\"type\":\"Selection\"},{\"attributes\":{\"line_color\":\"#1f77b4\",\"x\":{\"field\":\"x\"},\"y\":{\"field\":\"y\"}},\"id\":\"2207\",\"type\":\"Line\"},{\"attributes\":{},\"id\":\"2214\",\"type\":\"BasicTickFormatter\"},{\"attributes\":{\"axis_label\":\"x\",\"coordinates\":null,\"formatter\":{\"id\":\"2217\"},\"group\":null,\"major_label_policy\":{\"id\":\"2218\"},\"ticker\":{\"id\":\"2185\"}},\"id\":\"2184\",\"type\":\"LinearAxis\"},{\"attributes\":{\"coordinates\":null,\"group\":null,\"items\":[{\"id\":\"2223\"}]},\"id\":\"2222\",\"type\":\"Legend\"},{\"attributes\":{},\"id\":\"2217\",\"type\":\"BasicTickFormatter\"},{\"attributes\":{},\"id\":\"2192\",\"type\":\"PanTool\"},{\"attributes\":{\"line_alpha\":0.2,\"line_color\":\"#1f77b4\",\"x\":{\"field\":\"x\"},\"y\":{\"field\":\"y\"}},\"id\":\"2209\",\"type\":\"Line\"},{\"attributes\":{},\"id\":\"2176\",\"type\":\"DataRange1d\"},{\"attributes\":{\"label\":{\"value\":\"leeegend\"},\"renderers\":[{\"id\":\"2210\"}]},\"id\":\"2223\",\"type\":\"LegendItem\"},{\"attributes\":{\"axis\":{\"id\":\"2188\"},\"coordinates\":null,\"dimension\":1,\"group\":null,\"ticker\":null},\"id\":\"2191\",\"type\":\"Grid\"},{\"attributes\":{},\"id\":\"2178\",\"type\":\"DataRange1d\"},{\"attributes\":{\"coordinates\":null,\"group\":null,\"text\":\"Great title\"},\"id\":\"2174\",\"type\":\"Title\"},{\"attributes\":{},\"id\":\"2218\",\"type\":\"AllLabels\"},{\"attributes\":{\"source\":{\"id\":\"2206\"}},\"id\":\"2211\",\"type\":\"CDSView\"},{\"attributes\":{\"line_alpha\":0.1,\"line_color\":\"#1f77b4\",\"x\":{\"field\":\"x\"},\"y\":{\"field\":\"y\"}},\"id\":\"2208\",\"type\":\"Line\"},{\"attributes\":{},\"id\":\"2195\",\"type\":\"SaveTool\"},{\"attributes\":{},\"id\":\"2182\",\"type\":\"LinearScale\"},{\"attributes\":{},\"id\":\"2196\",\"type\":\"ResetTool\"},{\"attributes\":{\"overlay\":{\"id\":\"2198\"}},\"id\":\"2194\",\"type\":\"BoxZoomTool\"},{\"attributes\":{\"tools\":[{\"id\":\"2192\"},{\"id\":\"2193\"},{\"id\":\"2194\"},{\"id\":\"2195\"},{\"id\":\"2196\"},{\"id\":\"2197\"}]},\"id\":\"2199\",\"type\":\"Toolbar\"},{\"attributes\":{},\"id\":\"2197\",\"type\":\"HelpTool\"}],\"root_ids\":[\"2173\"]},\"title\":\"Bokeh Application\",\"version\":\"2.4.2\"}};\n  const render_items = [{\"docid\":\"013dd4eb-ace9-4dbf-9f73-90c0fa3e4c36\",\"notebook_comms_target\":\"2234\",\"root_ids\":[\"2173\"],\"roots\":{\"2173\":\"56ba7aa3-5103-4fb9-93df-7a2e6e8209db\"}}];\n  root.Bokeh.embed.embed_items_notebook(docs_json, render_items);\n\n  }\n  if (root.Bokeh !== undefined) {\n    embed_document(root);\n  } else {\n    let attempts = 0;\n    const timer = setInterval(function(root) {\n      if (root.Bokeh !== undefined) {\n        clearInterval(timer);\n        embed_document(root);\n      } else {\n        attempts++;\n        if (attempts > 100) {\n          clearInterval(timer);\n          console.log(\"Bokeh: ERROR: Unable to run BokehJS code because BokehJS library is missing\");\n        }\n      }\n    }, 10, root)\n  }\n})(window);",
      "application/vnd.bokehjs_exec.v0+json": ""
     },
     "metadata": {
      "application/vnd.bokehjs_exec.v0+json": {
       "id": "2173"
      }
     },
     "output_type": "display_data"
    },
    {
     "data": {
      "text/html": [
       "<p><code>&lt;Bokeh Notebook handle for <strong>In[9]</strong>&gt;</code></p>"
      ],
      "text/plain": [
       "<bokeh.io.notebook.CommsHandle at 0x17fc3d490>"
      ]
     },
     "execution_count": 9,
     "metadata": {},
     "output_type": "execute_result"
    }
   ],
   "source": [
    "# Basic bokeh\n",
    "from bokeh.plotting import figure, show, output_notebook, ColumnDataSource\n",
    "from bokeh.models import HoverTool\n",
    "output_notebook()\n",
    "\n",
    "x = [1,2,3,4]\n",
    "y = [1, 4, 9, 16]\n",
    "# Create plot\n",
    "p = figure(title=\"Great title\", x_axis_label='x', y_axis_label='great y-label')\n",
    "p.line(x,y, legend_label='leeegend')\n",
    "\n",
    "#show(p)  # Shows in browser\n",
    "#output_notebook()\n",
    "show(p, notebook_handle=True) # Shows in notebook"
   ]
  },
  {
   "cell_type": "code",
   "execution_count": 10,
   "metadata": {},
   "outputs": [
    {
     "data": {
      "text/html": [
       "\n",
       "\n",
       "\n",
       "\n",
       "\n",
       "\n",
       "  <div class=\"bk-root\" id=\"33a6c12f-b600-4562-b722-f938f4f10bbb\" data-root-id=\"2286\"></div>\n"
      ]
     },
     "metadata": {},
     "output_type": "display_data"
    },
    {
     "data": {
      "application/javascript": "(function(root) {\n  function embed_document(root) {\n    \n  const docs_json = {\"ac4005b6-da1d-4cc7-b9b5-104f4866d7d8\":{\"defs\":[],\"roots\":{\"references\":[{\"attributes\":{\"below\":[{\"id\":\"2297\"}],\"center\":[{\"id\":\"2300\"},{\"id\":\"2304\"},{\"id\":\"2335\"}],\"left\":[{\"id\":\"2301\"}],\"renderers\":[{\"id\":\"2323\"},{\"id\":\"2341\"},{\"id\":\"2358\"},{\"id\":\"2375\"},{\"id\":\"2392\"},{\"id\":\"2409\"}],\"title\":{\"id\":\"2287\"},\"toolbar\":{\"id\":\"2312\"},\"x_range\":{\"id\":\"2289\"},\"x_scale\":{\"id\":\"2293\"},\"y_range\":{\"id\":\"2291\"},\"y_scale\":{\"id\":\"2295\"}},\"id\":\"2286\",\"subtype\":\"Figure\",\"type\":\"Plot\"},{\"attributes\":{},\"id\":\"2295\",\"type\":\"LinearScale\"},{\"attributes\":{\"tools\":[{\"id\":\"2305\"},{\"id\":\"2306\"},{\"id\":\"2307\"},{\"id\":\"2308\"},{\"id\":\"2309\"},{\"id\":\"2310\"}]},\"id\":\"2312\",\"type\":\"Toolbar\"},{\"attributes\":{\"click_policy\":\"mute\",\"coordinates\":null,\"group\":null,\"items\":[{\"id\":\"2336\"},{\"id\":\"2353\"},{\"id\":\"2370\"},{\"id\":\"2387\"},{\"id\":\"2404\"},{\"id\":\"2421\"}]},\"id\":\"2335\",\"type\":\"Legend\"},{\"attributes\":{\"fill_alpha\":{\"value\":0.2},\"fill_color\":{\"value\":\"#c44e52\"},\"hatch_alpha\":{\"value\":0.2},\"line_alpha\":{\"value\":0.2},\"line_color\":{\"value\":\"#1f77b4\"},\"top\":{\"field\":\"Hispanic\"},\"x\":{\"field\":\"age\"}},\"id\":\"2374\",\"type\":\"VBar\"},{\"attributes\":{\"coordinates\":null,\"data_source\":{\"id\":\"2285\"},\"glyph\":{\"id\":\"2372\"},\"group\":null,\"hover_glyph\":null,\"muted_glyph\":{\"id\":\"2374\"},\"nonselection_glyph\":{\"id\":\"2373\"},\"view\":{\"id\":\"2376\"}},\"id\":\"2375\",\"type\":\"GlyphRenderer\"},{\"attributes\":{\"source\":{\"id\":\"2285\"}},\"id\":\"2324\",\"type\":\"CDSView\"},{\"attributes\":{\"source\":{\"id\":\"2285\"}},\"id\":\"2376\",\"type\":\"CDSView\"},{\"attributes\":{},\"id\":\"2289\",\"type\":\"DataRange1d\"},{\"attributes\":{\"source\":{\"id\":\"2285\"}},\"id\":\"2359\",\"type\":\"CDSView\"},{\"attributes\":{\"label\":{\"value\":\"Other\"},\"renderers\":[{\"id\":\"2323\"}]},\"id\":\"2336\",\"type\":\"LegendItem\"},{\"attributes\":{\"label\":{\"value\":\"Hispanic\"},\"renderers\":[{\"id\":\"2375\"}]},\"id\":\"2387\",\"type\":\"LegendItem\"},{\"attributes\":{},\"id\":\"2298\",\"type\":\"BasicTicker\"},{\"attributes\":{\"coordinates\":null,\"data_source\":{\"id\":\"2285\"},\"glyph\":{\"id\":\"2389\"},\"group\":null,\"hover_glyph\":null,\"muted_glyph\":{\"id\":\"2391\"},\"nonselection_glyph\":{\"id\":\"2390\"},\"view\":{\"id\":\"2393\"}},\"id\":\"2392\",\"type\":\"GlyphRenderer\"},{\"attributes\":{\"fill_alpha\":{\"value\":0.1},\"fill_color\":{\"value\":\"#4c72b0\"},\"hatch_alpha\":{\"value\":0.1},\"line_alpha\":{\"value\":0.1},\"line_color\":{\"value\":\"#1f77b4\"},\"top\":{\"field\":\"Other\"},\"x\":{\"field\":\"age\"}},\"id\":\"2321\",\"type\":\"VBar\"},{\"attributes\":{\"fill_alpha\":{\"value\":0.1},\"fill_color\":{\"value\":\"#55a868\"},\"hatch_alpha\":{\"value\":0.1},\"line_alpha\":{\"value\":0.1},\"line_color\":{\"value\":\"#1f77b4\"},\"top\":{\"field\":\"Caucasian\"},\"x\":{\"field\":\"age\"}},\"id\":\"2356\",\"type\":\"VBar\"},{\"attributes\":{\"coordinates\":null,\"data_source\":{\"id\":\"2285\"},\"glyph\":{\"id\":\"2320\"},\"group\":null,\"hover_glyph\":null,\"muted_glyph\":{\"id\":\"2322\"},\"nonselection_glyph\":{\"id\":\"2321\"},\"view\":{\"id\":\"2324\"}},\"id\":\"2323\",\"type\":\"GlyphRenderer\"},{\"attributes\":{},\"id\":\"2332\",\"type\":\"UnionRenderers\"},{\"attributes\":{\"axis\":{\"id\":\"2297\"},\"coordinates\":null,\"group\":null,\"ticker\":null},\"id\":\"2300\",\"type\":\"Grid\"},{\"attributes\":{\"fill_color\":{\"value\":\"#55a868\"},\"line_color\":{\"value\":\"#1f77b4\"},\"top\":{\"field\":\"Caucasian\"},\"x\":{\"field\":\"age\"}},\"id\":\"2355\",\"type\":\"VBar\"},{\"attributes\":{},\"id\":\"2308\",\"type\":\"SaveTool\"},{\"attributes\":{},\"id\":\"2291\",\"type\":\"DataRange1d\"},{\"attributes\":{\"axis_label\":\"Occurences\",\"coordinates\":null,\"formatter\":{\"id\":\"2327\"},\"group\":null,\"major_label_policy\":{\"id\":\"2328\"},\"ticker\":{\"id\":\"2302\"}},\"id\":\"2301\",\"type\":\"LinearAxis\"},{\"attributes\":{},\"id\":\"2305\",\"type\":\"PanTool\"},{\"attributes\":{\"coordinates\":null,\"data_source\":{\"id\":\"2285\"},\"glyph\":{\"id\":\"2338\"},\"group\":null,\"hover_glyph\":null,\"muted_glyph\":{\"id\":\"2340\"},\"nonselection_glyph\":{\"id\":\"2339\"},\"view\":{\"id\":\"2342\"}},\"id\":\"2341\",\"type\":\"GlyphRenderer\"},{\"attributes\":{},\"id\":\"2306\",\"type\":\"WheelZoomTool\"},{\"attributes\":{},\"id\":\"2333\",\"type\":\"Selection\"},{\"attributes\":{},\"id\":\"2302\",\"type\":\"BasicTicker\"},{\"attributes\":{\"fill_alpha\":{\"value\":0.2},\"fill_color\":{\"value\":\"#55a868\"},\"hatch_alpha\":{\"value\":0.2},\"line_alpha\":{\"value\":0.2},\"line_color\":{\"value\":\"#1f77b4\"},\"top\":{\"field\":\"Caucasian\"},\"x\":{\"field\":\"age\"}},\"id\":\"2357\",\"type\":\"VBar\"},{\"attributes\":{\"source\":{\"id\":\"2285\"}},\"id\":\"2342\",\"type\":\"CDSView\"},{\"attributes\":{\"bottom_units\":\"screen\",\"coordinates\":null,\"fill_alpha\":0.5,\"fill_color\":\"lightgrey\",\"group\":null,\"left_units\":\"screen\",\"level\":\"overlay\",\"line_alpha\":1.0,\"line_color\":\"black\",\"line_dash\":[4,4],\"line_width\":2,\"right_units\":\"screen\",\"syncable\":false,\"top_units\":\"screen\"},\"id\":\"2311\",\"type\":\"BoxAnnotation\"},{\"attributes\":{\"fill_alpha\":{\"value\":0.1},\"fill_color\":{\"value\":\"#dd8452\"},\"hatch_alpha\":{\"value\":0.1},\"line_alpha\":{\"value\":0.1},\"line_color\":{\"value\":\"#1f77b4\"},\"top\":{\"field\":\"African-American\"},\"x\":{\"field\":\"age\"}},\"id\":\"2339\",\"type\":\"VBar\"},{\"attributes\":{\"source\":{\"id\":\"2285\"}},\"id\":\"2410\",\"type\":\"CDSView\"},{\"attributes\":{\"label\":{\"value\":\"Caucasian\"},\"renderers\":[{\"id\":\"2358\"}]},\"id\":\"2370\",\"type\":\"LegendItem\"},{\"attributes\":{\"coordinates\":null,\"group\":null,\"text\":\"Great title\"},\"id\":\"2287\",\"type\":\"Title\"},{\"attributes\":{\"fill_alpha\":{\"value\":0.2},\"fill_color\":{\"value\":\"#4c72b0\"},\"hatch_alpha\":{\"value\":0.2},\"line_alpha\":{\"value\":0.2},\"line_color\":{\"value\":\"#1f77b4\"},\"top\":{\"field\":\"Other\"},\"x\":{\"field\":\"age\"}},\"id\":\"2322\",\"type\":\"VBar\"},{\"attributes\":{\"fill_color\":{\"value\":\"#c44e52\"},\"line_color\":{\"value\":\"#1f77b4\"},\"top\":{\"field\":\"Hispanic\"},\"x\":{\"field\":\"age\"}},\"id\":\"2372\",\"type\":\"VBar\"},{\"attributes\":{\"overlay\":{\"id\":\"2311\"}},\"id\":\"2307\",\"type\":\"BoxZoomTool\"},{\"attributes\":{\"fill_color\":{\"value\":\"#dd8452\"},\"line_color\":{\"value\":\"#1f77b4\"},\"top\":{\"field\":\"African-American\"},\"x\":{\"field\":\"age\"}},\"id\":\"2338\",\"type\":\"VBar\"},{\"attributes\":{},\"id\":\"2309\",\"type\":\"ResetTool\"},{\"attributes\":{\"fill_alpha\":{\"value\":0.1},\"fill_color\":{\"value\":\"#937860\"},\"hatch_alpha\":{\"value\":0.1},\"line_alpha\":{\"value\":0.1},\"line_color\":{\"value\":\"#1f77b4\"},\"top\":{\"field\":\"Asian\"},\"x\":{\"field\":\"age\"}},\"id\":\"2407\",\"type\":\"VBar\"},{\"attributes\":{\"fill_alpha\":{\"value\":0.2},\"fill_color\":{\"value\":\"#dd8452\"},\"hatch_alpha\":{\"value\":0.2},\"line_alpha\":{\"value\":0.2},\"line_color\":{\"value\":\"#1f77b4\"},\"top\":{\"field\":\"African-American\"},\"x\":{\"field\":\"age\"}},\"id\":\"2340\",\"type\":\"VBar\"},{\"attributes\":{},\"id\":\"2310\",\"type\":\"HelpTool\"},{\"attributes\":{\"axis\":{\"id\":\"2301\"},\"coordinates\":null,\"dimension\":1,\"group\":null,\"ticker\":null},\"id\":\"2304\",\"type\":\"Grid\"},{\"attributes\":{\"fill_color\":{\"value\":\"#937860\"},\"line_color\":{\"value\":\"#1f77b4\"},\"top\":{\"field\":\"Asian\"},\"x\":{\"field\":\"age\"}},\"id\":\"2406\",\"type\":\"VBar\"},{\"attributes\":{\"fill_color\":{\"value\":\"#4c72b0\"},\"line_color\":{\"value\":\"#1f77b4\"},\"top\":{\"field\":\"Other\"},\"x\":{\"field\":\"age\"}},\"id\":\"2320\",\"type\":\"VBar\"},{\"attributes\":{\"label\":{\"value\":\"African-American\"},\"renderers\":[{\"id\":\"2341\"}]},\"id\":\"2353\",\"type\":\"LegendItem\"},{\"attributes\":{\"coordinates\":null,\"data_source\":{\"id\":\"2285\"},\"glyph\":{\"id\":\"2355\"},\"group\":null,\"hover_glyph\":null,\"muted_glyph\":{\"id\":\"2357\"},\"nonselection_glyph\":{\"id\":\"2356\"},\"view\":{\"id\":\"2359\"}},\"id\":\"2358\",\"type\":\"GlyphRenderer\"},{\"attributes\":{\"fill_alpha\":{\"value\":0.2},\"fill_color\":{\"value\":\"#937860\"},\"hatch_alpha\":{\"value\":0.2},\"line_alpha\":{\"value\":0.2},\"line_color\":{\"value\":\"#1f77b4\"},\"top\":{\"field\":\"Asian\"},\"x\":{\"field\":\"age\"}},\"id\":\"2408\",\"type\":\"VBar\"},{\"attributes\":{\"source\":{\"id\":\"2285\"}},\"id\":\"2393\",\"type\":\"CDSView\"},{\"attributes\":{\"label\":{\"value\":\"Asian\"},\"renderers\":[{\"id\":\"2409\"}]},\"id\":\"2421\",\"type\":\"LegendItem\"},{\"attributes\":{\"fill_alpha\":{\"value\":0.1},\"fill_color\":{\"value\":\"#8172b3\"},\"hatch_alpha\":{\"value\":0.1},\"line_alpha\":{\"value\":0.1},\"line_color\":{\"value\":\"#1f77b4\"},\"top\":{\"field\":\"Native American\"},\"x\":{\"field\":\"age\"}},\"id\":\"2390\",\"type\":\"VBar\"},{\"attributes\":{\"data\":{\"African-American\":[2,22,109,191,187,200,209,195,198,200,158,166,164,135,123,110,109,107,85,85,64,56,40,58,51,49,41,43,38,41,32,32,31,46,42,30,30,24,35,28,15,23,13,19,8,12,8,4,7,5,4,4,2,2,0,0,1,1,0,2,0,0,0,0,0],\"Asian\":[0,0,1,1,1,0,4,0,1,0,1,1,1,0,1,1,2,1,1,0,2,0,1,1,0,0,0,1,2,1,2,0,1,1,1,0,0,0,0,0,0,0,0,0,0,0,0,0,0,1,0,0,0,0,0,0,0,0,1,0,0,0,0,0,0],\"Caucasian\":[1,9,44,76,83,72,105,97,97,86,87,83,85,78,63,70,63,44,57,58,48,69,40,43,41,50,53,42,55,41,39,49,53,49,40,44,36,42,45,32,29,22,13,20,12,10,8,12,12,12,4,9,3,3,3,1,4,2,0,2,1,1,1,1,0],\"Hispanic\":[0,2,12,31,24,31,27,22,24,21,25,19,26,27,22,17,17,21,17,29,17,12,11,13,5,8,14,18,7,10,8,4,9,10,10,9,6,7,8,5,4,4,4,3,3,2,2,1,0,3,1,2,0,0,0,0,0,1,0,0,0,0,0,1,1],\"Native American\":[0,0,1,1,1,0,0,1,1,1,1,1,0,0,0,2,1,0,0,1,1,0,1,0,1,0,0,2,0,1,0,0,0,0,0,0,0,0,0,0,0,0,0,0,0,0,0,0,0,0,0,0,0,0,0,0,0,0,0,0,0,0,0,0,0],\"Other\":[0,1,16,18,9,18,20,17,11,13,7,13,21,16,11,15,9,4,11,13,11,10,9,3,6,7,3,7,6,5,11,5,2,4,5,4,6,3,5,5,3,3,3,1,1,1,1,0,1,0,0,2,1,0,0,0,0,0,0,0,0,0,0,0,0],\"age\":[18,19,20,21,22,23,24,25,26,27,28,29,30,31,32,33,34,35,36,37,38,39,40,41,42,43,44,45,46,47,48,49,50,51,52,53,54,55,56,57,58,59,60,61,62,63,64,65,66,67,68,69,70,71,72,73,74,75,76,77,78,79,80,83,96],\"index\":[18,19,20,21,22,23,24,25,26,27,28,29,30,31,32,33,34,35,36,37,38,39,40,41,42,43,44,45,46,47,48,49,50,51,52,53,54,55,56,57,58,59,60,61,62,63,64,65,66,67,68,69,70,71,72,73,74,75,76,77,78,79,80,83,96]},\"selected\":{\"id\":\"2333\"},\"selection_policy\":{\"id\":\"2332\"}},\"id\":\"2285\",\"type\":\"ColumnDataSource\"},{\"attributes\":{},\"id\":\"2327\",\"type\":\"BasicTickFormatter\"},{\"attributes\":{\"fill_color\":{\"value\":\"#8172b3\"},\"line_color\":{\"value\":\"#1f77b4\"},\"top\":{\"field\":\"Native American\"},\"x\":{\"field\":\"age\"}},\"id\":\"2389\",\"type\":\"VBar\"},{\"attributes\":{},\"id\":\"2328\",\"type\":\"AllLabels\"},{\"attributes\":{\"fill_alpha\":{\"value\":0.2},\"fill_color\":{\"value\":\"#8172b3\"},\"hatch_alpha\":{\"value\":0.2},\"line_alpha\":{\"value\":0.2},\"line_color\":{\"value\":\"#1f77b4\"},\"top\":{\"field\":\"Native American\"},\"x\":{\"field\":\"age\"}},\"id\":\"2391\",\"type\":\"VBar\"},{\"attributes\":{},\"id\":\"2293\",\"type\":\"LinearScale\"},{\"attributes\":{},\"id\":\"2330\",\"type\":\"BasicTickFormatter\"},{\"attributes\":{\"label\":{\"value\":\"Native American\"},\"renderers\":[{\"id\":\"2392\"}]},\"id\":\"2404\",\"type\":\"LegendItem\"},{\"attributes\":{\"coordinates\":null,\"data_source\":{\"id\":\"2285\"},\"glyph\":{\"id\":\"2406\"},\"group\":null,\"hover_glyph\":null,\"muted_glyph\":{\"id\":\"2408\"},\"nonselection_glyph\":{\"id\":\"2407\"},\"view\":{\"id\":\"2410\"}},\"id\":\"2409\",\"type\":\"GlyphRenderer\"},{\"attributes\":{\"fill_alpha\":{\"value\":0.1},\"fill_color\":{\"value\":\"#c44e52\"},\"hatch_alpha\":{\"value\":0.1},\"line_alpha\":{\"value\":0.1},\"line_color\":{\"value\":\"#1f77b4\"},\"top\":{\"field\":\"Hispanic\"},\"x\":{\"field\":\"age\"}},\"id\":\"2373\",\"type\":\"VBar\"},{\"attributes\":{},\"id\":\"2331\",\"type\":\"AllLabels\"},{\"attributes\":{\"axis_label\":\"Age\",\"coordinates\":null,\"formatter\":{\"id\":\"2330\"},\"group\":null,\"major_label_policy\":{\"id\":\"2331\"},\"ticker\":{\"id\":\"2298\"}},\"id\":\"2297\",\"type\":\"LinearAxis\"}],\"root_ids\":[\"2286\"]},\"title\":\"Bokeh Application\",\"version\":\"2.4.2\"}};\n  const render_items = [{\"docid\":\"ac4005b6-da1d-4cc7-b9b5-104f4866d7d8\",\"notebook_comms_target\":\"2442\",\"root_ids\":[\"2286\"],\"roots\":{\"2286\":\"33a6c12f-b600-4562-b722-f938f4f10bbb\"}}];\n  root.Bokeh.embed.embed_items_notebook(docs_json, render_items);\n\n  }\n  if (root.Bokeh !== undefined) {\n    embed_document(root);\n  } else {\n    let attempts = 0;\n    const timer = setInterval(function(root) {\n      if (root.Bokeh !== undefined) {\n        clearInterval(timer);\n        embed_document(root);\n      } else {\n        attempts++;\n        if (attempts > 100) {\n          clearInterval(timer);\n          console.log(\"Bokeh: ERROR: Unable to run BokehJS code because BokehJS library is missing\");\n        }\n      }\n    }, 10, root)\n  }\n})(window);",
      "application/vnd.bokehjs_exec.v0+json": ""
     },
     "metadata": {
      "application/vnd.bokehjs_exec.v0+json": {
       "id": "2286"
      }
     },
     "output_type": "display_data"
    },
    {
     "data": {
      "text/html": [
       "<p><code>&lt;Bokeh Notebook handle for <strong>In[10]</strong>&gt;</code></p>"
      ],
      "text/plain": [
       "<bokeh.io.notebook.CommsHandle at 0x1767841f0>"
      ]
     },
     "execution_count": 10,
     "metadata": {},
     "output_type": "execute_result"
    }
   ],
   "source": [
    "# 1.1\n",
    "# a)\n",
    "D1 = pd.DataFrame(index=np.sort(D.age.unique()), columns=D.race.unique())\n",
    "for age in D1.index:\n",
    "    for race in D1.columns:\n",
    "        D1[race][age] = ((D['age'] == age) & (D['race'] == race)).sum()\n",
    "D1['age'] = D1.index\n",
    "races = D.race.unique()\n",
    "\n",
    "# b)\n",
    "CDS = ColumnDataSource(D1)\n",
    "\n",
    "# c)\n",
    "p = figure(title=\"Great title\", x_axis_label='Age', y_axis_label='Occurences')\n",
    "bar = {} # to store vbars\n",
    "# here we will do a for loop to create a bar for each race\n",
    "for indx, race in enumerate(D.race.unique()):\n",
    "        bar[race] = p.vbar(x=\"age\", top=race, source=CDS, legend_label=race, fill_color = sns.color_palette(n_colors = len(races)).as_hex()[indx])#, ..., muted = ...) \n",
    "\n",
    "p.legend.click_policy=\"mute\" #assigns the click policy (you can try to use ''hide')\n",
    "show(p, notebook_handle=True) #displays your plot"
   ]
  },
  {
   "cell_type": "markdown",
   "metadata": {},
   "source": [
    "> *Exercise 1.1:* Interactive data exploration. The aim of this exercise is to compare bar plots for different races. Each bar plot will have age on the x-axis and number of samples in the data on the y-axis. Follow the steps below for success:\n",
    ">\n",
    "> * Compute the number of samples by age for each race. You should end up with a dataframe that looks like [this](https://github.com/suneman/socialdata2022/blob/main/files/bokeh-df1.png).\n",
    "> * Convert your `DataFrame` to Bokeh `ColumnDataSource`.\n",
    "> * Create an empty figure, you can find the a guide to define a figure in Bokeh online. Here, a little help:\n",
    "> ```python\n",
    "p = figure(ADD_PARAMS_HERE) #p is a standard way to call figures in Bokeh\n",
    "#do not forget to add attributes to the figure, e.g. title, axis names, etc.\n",
    "> ```\n",
    "> * Add bars by using `p.vbar()` as follows:\n",
    "> ```python\n",
    "    bar ={} # to store vbars \n",
    "    # here we will do a for loop to create a bar for each race\n",
    "    for indx,i in enumerate(races):\n",
    "         bar[i] = p.vbar(x=ADD_AGE_COLUMN_NAME,  top=i, source= ADD_YOUR_DATA, legend_label=i, ..., muted = ...) \n",
    "> ```\n",
    "> * Make your legend interactive and display the figure:\n",
    "> ```python\n",
    "    p.legend.click_policy=\"mute\" #assigns the click policy (you can try to use ''hide')\n",
    "    show(p) #displays your plot\n",
    "> ```\n",
    "> * You will notice that the legend appears in the middle of the figure (and it ocludes some of the data). In order to fix this look into [this guide](https://stackoverflow.com/questions/26254619/position-of-the-legend-in-a-bokeh-plot) as a start. Below are some code snippets that you can use to deal with this problem (but read the guide first):\n",
    "> ```python\n",
    "    items = [] # for the custom legend // you need to figure out where to add it\n",
    "    items.append((i, [bar[i]])) # figure out where to add it\n",
    "    legend = Legend(items=..., location=.....) # figure out where to add it\n",
    "    p.add_layout(...., ...) # figure where to add it\n",
    "    # if you read the guide, it will make sense :)\n",
    "> ```\n",
    "> * And now you have it! You can play with colors and other parameters to make it as you like, but first describe your plot. What do you observe?"
   ]
  },
  {
   "cell_type": "markdown",
   "metadata": {},
   "source": [
    "During Week 6 I asked you to visualize a bar plot with the fraction of recommitted crimes over total number of records per race, e.g. the number of recommitted crimes of African-Americans over the total number of crimes of African-Americans, etc. You should have obtained something like [this](https://github.com/suneman/socialdata2022/blob/main/files/frac_recommit_race.png). If we look at this plot we observe that all races but Asian have fraction of recommitted crimes above $30\\%$, and African-Americans have the highest fraction, i.e. above $50\\%$. However, is this the whole story? Let's have a look at this data from a different angle!\n",
    "\n",
    "> *Exercise 1.2:* fraction of crimes - a different perspective. In this exercise, we are going to create an interactive scatter plot, where each point is a race, with position given by the number of total samples in the race category on the x-axis and the number of recommitted crimes in the race category on the y-axis. Moreover, each point will have a size given by the fraction computed in Week 6. Follow these steps for success:\n",
    "> * Create a `DataFrame` with `race` as index and the following columns: \n",
    ">     * `n_samples`, i.e. number of samples for each race,\n",
    ">     * `n_rec_crimes`, i.e. number of recommitted crimes for each race,\n",
    ">     * `frac_crimes`, i.e. `n_rec_crimes/n_samples`.\n",
    "> * Convert the dataframe into a `ColumnDataSource` and create an empty figure.\n",
    "> * Add points in your figure by using \n",
    "> ```python\n",
    ">   p.circle(ADD_X_COLUMN,ADD_Y_COLUMN, size=..., source=..., ...)\n",
    "> ```\n",
    "> * Add a `HoverTool()` so that when hovering over a circle both race and size are displayed.\n",
    "> * You can change colors of the data points by passing an additional color column to `p.circle()`.\n",
    "> * And now a couple of questions: Explain what you observe. What does this plot shows that the fraction of crimes alone didn't? Do you think the data we are using is representative? What could be some possible issues with this data? \n",
    "\n",
    "Once answered the questions above, **take a minute and discuss** your thoughts with your neighbour or one of your group members."
   ]
  },
  {
   "cell_type": "code",
   "execution_count": 32,
   "metadata": {},
   "outputs": [
    {
     "data": {
      "text/plain": [
       "array(['Other', 'African-American', 'Caucasian', 'Hispanic',\n",
       "       'Native American', 'Asian'], dtype=object)"
      ]
     },
     "execution_count": 32,
     "metadata": {},
     "output_type": "execute_result"
    }
   ],
   "source": []
  },
  {
   "cell_type": "code",
   "execution_count": 87,
   "metadata": {},
   "outputs": [
    {
     "name": "stdout",
     "output_type": "stream",
     "text": [
      "0 Other\n",
      "1 African-American\n",
      "2 Caucasian\n",
      "3 Hispanic\n",
      "4 Native American\n",
      "5 Asian\n"
     ]
    },
    {
     "data": {
      "text/html": [
       "\n",
       "\n",
       "\n",
       "\n",
       "\n",
       "\n",
       "  <div class=\"bk-root\" id=\"838da62d-513b-4276-b55a-678b0cef588a\" data-root-id=\"6839\"></div>\n"
      ]
     },
     "metadata": {},
     "output_type": "display_data"
    },
    {
     "data": {
      "application/javascript": "(function(root) {\n  function embed_document(root) {\n    \n  const docs_json = {\"43515a52-9b65-40d6-8fad-0041cc0a8994\":{\"defs\":[],\"roots\":{\"references\":[{\"attributes\":{\"below\":[{\"id\":\"6850\"}],\"center\":[{\"id\":\"6853\"},{\"id\":\"6857\"},{\"id\":\"6888\"}],\"left\":[{\"id\":\"6854\"}],\"renderers\":[{\"id\":\"6876\"},{\"id\":\"6894\"},{\"id\":\"6911\"},{\"id\":\"6928\"},{\"id\":\"6945\"},{\"id\":\"6962\"}],\"title\":{\"id\":\"6840\"},\"toolbar\":{\"id\":\"6865\"},\"x_range\":{\"id\":\"6842\"},\"x_scale\":{\"id\":\"6846\"},\"y_range\":{\"id\":\"6844\"},\"y_scale\":{\"id\":\"6848\"}},\"id\":\"6839\",\"subtype\":\"Figure\",\"type\":\"Plot\"},{\"attributes\":{\"data\":{\"frac_crimes\":[37.90087463556851,55.84251968503937,41.559676652401336,38.70333988212181,54.54545454545454,32.25806451612903],\"index\":[\"Other\",\"African-American\",\"Caucasian\",\"Hispanic\",\"Native American\",\"Asian\"],\"n_rec_crimes\":[130,1773,874,197,6,10],\"n_samples\":[343,3175,2103,509,11,31]},\"selected\":{\"id\":\"6886\"},\"selection_policy\":{\"id\":\"6885\"}},\"id\":\"6838\",\"type\":\"ColumnDataSource\"},{\"attributes\":{\"coordinates\":null,\"data_source\":{\"id\":\"6838\"},\"glyph\":{\"id\":\"6891\"},\"group\":null,\"hover_glyph\":null,\"muted_glyph\":{\"id\":\"6893\"},\"nonselection_glyph\":{\"id\":\"6892\"},\"view\":{\"id\":\"6895\"}},\"id\":\"6894\",\"type\":\"GlyphRenderer\"},{\"attributes\":{\"fill_alpha\":{\"value\":0.1},\"fill_color\":{\"value\":\"#c44e52\"},\"hatch_alpha\":{\"value\":0.1},\"hatch_color\":{\"value\":\"#c44e52\"},\"line_alpha\":{\"value\":0.1},\"line_color\":{\"value\":\"#c44e52\"},\"size\":{\"field\":\"frac_crimes\"},\"x\":{\"field\":\"n_samples\"},\"y\":{\"field\":\"n_rec_crimes\"}},\"id\":\"6926\",\"type\":\"Circle\"},{\"attributes\":{\"axis_label\":\"Re-commits\",\"coordinates\":null,\"formatter\":{\"id\":\"6880\"},\"group\":null,\"major_label_policy\":{\"id\":\"6881\"},\"ticker\":{\"id\":\"6855\"}},\"id\":\"6854\",\"type\":\"LinearAxis\"},{\"attributes\":{},\"id\":\"6848\",\"type\":\"LinearScale\"},{\"attributes\":{},\"id\":\"6844\",\"type\":\"DataRange1d\"},{\"attributes\":{},\"id\":\"6863\",\"type\":\"HelpTool\"},{\"attributes\":{\"axis_label\":\"Crimes\",\"coordinates\":null,\"formatter\":{\"id\":\"6883\"},\"group\":null,\"major_label_policy\":{\"id\":\"6884\"},\"ticker\":{\"id\":\"6851\"}},\"id\":\"6850\",\"type\":\"LinearAxis\"},{\"attributes\":{\"coordinates\":null,\"data_source\":{\"id\":\"6838\"},\"glyph\":{\"id\":\"6925\"},\"group\":null,\"hover_glyph\":null,\"muted_glyph\":{\"id\":\"6927\"},\"nonselection_glyph\":{\"id\":\"6926\"},\"view\":{\"id\":\"6929\"}},\"id\":\"6928\",\"type\":\"GlyphRenderer\"},{\"attributes\":{\"fill_color\":{\"value\":\"#55a868\"},\"hatch_color\":{\"value\":\"#55a868\"},\"line_color\":{\"value\":\"#55a868\"},\"size\":{\"field\":\"frac_crimes\"},\"x\":{\"field\":\"n_samples\"},\"y\":{\"field\":\"n_rec_crimes\"}},\"id\":\"6908\",\"type\":\"Circle\"},{\"attributes\":{\"fill_alpha\":{\"value\":0.1},\"fill_color\":{\"value\":\"#dd8452\"},\"hatch_alpha\":{\"value\":0.1},\"hatch_color\":{\"value\":\"#dd8452\"},\"line_alpha\":{\"value\":0.1},\"line_color\":{\"value\":\"#dd8452\"},\"size\":{\"field\":\"frac_crimes\"},\"x\":{\"field\":\"n_samples\"},\"y\":{\"field\":\"n_rec_crimes\"}},\"id\":\"6892\",\"type\":\"Circle\"},{\"attributes\":{\"source\":{\"id\":\"6838\"}},\"id\":\"6929\",\"type\":\"CDSView\"},{\"attributes\":{},\"id\":\"6842\",\"type\":\"DataRange1d\"},{\"attributes\":{\"fill_alpha\":{\"value\":0.2},\"fill_color\":{\"value\":\"#dd8452\"},\"hatch_alpha\":{\"value\":0.2},\"hatch_color\":{\"value\":\"#dd8452\"},\"line_alpha\":{\"value\":0.2},\"line_color\":{\"value\":\"#dd8452\"},\"size\":{\"field\":\"frac_crimes\"},\"x\":{\"field\":\"n_samples\"},\"y\":{\"field\":\"n_rec_crimes\"}},\"id\":\"6893\",\"type\":\"Circle\"},{\"attributes\":{\"fill_alpha\":{\"value\":0.2},\"fill_color\":{\"value\":\"#c44e52\"},\"hatch_alpha\":{\"value\":0.2},\"hatch_color\":{\"value\":\"#c44e52\"},\"line_alpha\":{\"value\":0.2},\"line_color\":{\"value\":\"#c44e52\"},\"size\":{\"field\":\"frac_crimes\"},\"x\":{\"field\":\"n_samples\"},\"y\":{\"field\":\"n_rec_crimes\"}},\"id\":\"6927\",\"type\":\"Circle\"},{\"attributes\":{},\"id\":\"6846\",\"type\":\"LinearScale\"},{\"attributes\":{\"fill_color\":{\"value\":\"#4c72b0\"},\"hatch_color\":{\"value\":\"#4c72b0\"},\"line_color\":{\"value\":\"#4c72b0\"},\"size\":{\"field\":\"frac_crimes\"},\"x\":{\"field\":\"n_samples\"},\"y\":{\"field\":\"n_rec_crimes\"}},\"id\":\"6873\",\"type\":\"Circle\"},{\"attributes\":{},\"id\":\"6859\",\"type\":\"WheelZoomTool\"},{\"attributes\":{},\"id\":\"6851\",\"type\":\"BasicTicker\"},{\"attributes\":{\"fill_color\":{\"value\":\"#8172b3\"},\"hatch_color\":{\"value\":\"#8172b3\"},\"line_color\":{\"value\":\"#8172b3\"},\"size\":{\"field\":\"frac_crimes\"},\"x\":{\"field\":\"n_samples\"},\"y\":{\"field\":\"n_rec_crimes\"}},\"id\":\"6942\",\"type\":\"Circle\"},{\"attributes\":{\"label\":{\"value\":\"Hispanic\"},\"renderers\":[{\"id\":\"6928\"}]},\"id\":\"6940\",\"type\":\"LegendItem\"},{\"attributes\":{\"fill_alpha\":{\"value\":0.1},\"fill_color\":{\"value\":\"#4c72b0\"},\"hatch_alpha\":{\"value\":0.1},\"hatch_color\":{\"value\":\"#4c72b0\"},\"line_alpha\":{\"value\":0.1},\"line_color\":{\"value\":\"#4c72b0\"},\"size\":{\"field\":\"frac_crimes\"},\"x\":{\"field\":\"n_samples\"},\"y\":{\"field\":\"n_rec_crimes\"}},\"id\":\"6874\",\"type\":\"Circle\"},{\"attributes\":{\"fill_alpha\":{\"value\":0.1},\"fill_color\":{\"value\":\"#55a868\"},\"hatch_alpha\":{\"value\":0.1},\"hatch_color\":{\"value\":\"#55a868\"},\"line_alpha\":{\"value\":0.1},\"line_color\":{\"value\":\"#55a868\"},\"size\":{\"field\":\"frac_crimes\"},\"x\":{\"field\":\"n_samples\"},\"y\":{\"field\":\"n_rec_crimes\"}},\"id\":\"6909\",\"type\":\"Circle\"},{\"attributes\":{\"fill_color\":{\"value\":\"#937860\"},\"hatch_color\":{\"value\":\"#937860\"},\"line_color\":{\"value\":\"#937860\"},\"size\":{\"field\":\"frac_crimes\"},\"x\":{\"field\":\"n_samples\"},\"y\":{\"field\":\"n_rec_crimes\"}},\"id\":\"6959\",\"type\":\"Circle\"},{\"attributes\":{\"fill_color\":{\"value\":\"#dd8452\"},\"hatch_color\":{\"value\":\"#dd8452\"},\"line_color\":{\"value\":\"#dd8452\"},\"size\":{\"field\":\"frac_crimes\"},\"x\":{\"field\":\"n_samples\"},\"y\":{\"field\":\"n_rec_crimes\"}},\"id\":\"6891\",\"type\":\"Circle\"},{\"attributes\":{\"coordinates\":null,\"data_source\":{\"id\":\"6838\"},\"glyph\":{\"id\":\"6873\"},\"group\":null,\"hover_glyph\":null,\"muted_glyph\":{\"id\":\"6875\"},\"nonselection_glyph\":{\"id\":\"6874\"},\"view\":{\"id\":\"6877\"}},\"id\":\"6876\",\"type\":\"GlyphRenderer\"},{\"attributes\":{\"overlay\":{\"id\":\"6864\"}},\"id\":\"6860\",\"type\":\"BoxZoomTool\"},{\"attributes\":{},\"id\":\"6884\",\"type\":\"AllLabels\"},{\"attributes\":{\"coordinates\":null,\"data_source\":{\"id\":\"6838\"},\"glyph\":{\"id\":\"6908\"},\"group\":null,\"hover_glyph\":null,\"muted_glyph\":{\"id\":\"6910\"},\"nonselection_glyph\":{\"id\":\"6909\"},\"view\":{\"id\":\"6912\"}},\"id\":\"6911\",\"type\":\"GlyphRenderer\"},{\"attributes\":{\"coordinates\":null,\"group\":null,\"text\":\"Great title\"},\"id\":\"6840\",\"type\":\"Title\"},{\"attributes\":{\"bottom_units\":\"screen\",\"coordinates\":null,\"fill_alpha\":0.5,\"fill_color\":\"lightgrey\",\"group\":null,\"left_units\":\"screen\",\"level\":\"overlay\",\"line_alpha\":1.0,\"line_color\":\"black\",\"line_dash\":[4,4],\"line_width\":2,\"right_units\":\"screen\",\"syncable\":false,\"top_units\":\"screen\"},\"id\":\"6864\",\"type\":\"BoxAnnotation\"},{\"attributes\":{\"axis\":{\"id\":\"6854\"},\"coordinates\":null,\"dimension\":1,\"group\":null,\"ticker\":null},\"id\":\"6857\",\"type\":\"Grid\"},{\"attributes\":{\"source\":{\"id\":\"6838\"}},\"id\":\"6912\",\"type\":\"CDSView\"},{\"attributes\":{\"fill_alpha\":{\"value\":0.1},\"fill_color\":{\"value\":\"#937860\"},\"hatch_alpha\":{\"value\":0.1},\"hatch_color\":{\"value\":\"#937860\"},\"line_alpha\":{\"value\":0.1},\"line_color\":{\"value\":\"#937860\"},\"size\":{\"field\":\"frac_crimes\"},\"x\":{\"field\":\"n_samples\"},\"y\":{\"field\":\"n_rec_crimes\"}},\"id\":\"6960\",\"type\":\"Circle\"},{\"attributes\":{\"fill_alpha\":{\"value\":0.2},\"fill_color\":{\"value\":\"#55a868\"},\"hatch_alpha\":{\"value\":0.2},\"hatch_color\":{\"value\":\"#55a868\"},\"line_alpha\":{\"value\":0.2},\"line_color\":{\"value\":\"#55a868\"},\"size\":{\"field\":\"frac_crimes\"},\"x\":{\"field\":\"n_samples\"},\"y\":{\"field\":\"n_rec_crimes\"}},\"id\":\"6910\",\"type\":\"Circle\"},{\"attributes\":{},\"id\":\"6858\",\"type\":\"PanTool\"},{\"attributes\":{},\"id\":\"6880\",\"type\":\"BasicTickFormatter\"},{\"attributes\":{\"label\":{\"value\":\"Other\"},\"renderers\":[{\"id\":\"6876\"}]},\"id\":\"6889\",\"type\":\"LegendItem\"},{\"attributes\":{\"label\":{\"value\":\"Caucasian\"},\"renderers\":[{\"id\":\"6911\"}]},\"id\":\"6923\",\"type\":\"LegendItem\"},{\"attributes\":{\"fill_color\":{\"value\":\"#c44e52\"},\"hatch_color\":{\"value\":\"#c44e52\"},\"line_color\":{\"value\":\"#c44e52\"},\"size\":{\"field\":\"frac_crimes\"},\"x\":{\"field\":\"n_samples\"},\"y\":{\"field\":\"n_rec_crimes\"}},\"id\":\"6925\",\"type\":\"Circle\"},{\"attributes\":{\"label\":{\"value\":\"African-American\"},\"renderers\":[{\"id\":\"6894\"}]},\"id\":\"6906\",\"type\":\"LegendItem\"},{\"attributes\":{\"coordinates\":null,\"data_source\":{\"id\":\"6838\"},\"glyph\":{\"id\":\"6959\"},\"group\":null,\"hover_glyph\":null,\"muted_glyph\":{\"id\":\"6961\"},\"nonselection_glyph\":{\"id\":\"6960\"},\"view\":{\"id\":\"6963\"}},\"id\":\"6962\",\"type\":\"GlyphRenderer\"},{\"attributes\":{\"callback\":null},\"id\":\"6975\",\"type\":\"HoverTool\"},{\"attributes\":{\"source\":{\"id\":\"6838\"}},\"id\":\"6963\",\"type\":\"CDSView\"},{\"attributes\":{},\"id\":\"6881\",\"type\":\"AllLabels\"},{\"attributes\":{\"fill_alpha\":{\"value\":0.2},\"fill_color\":{\"value\":\"#937860\"},\"hatch_alpha\":{\"value\":0.2},\"hatch_color\":{\"value\":\"#937860\"},\"line_alpha\":{\"value\":0.2},\"line_color\":{\"value\":\"#937860\"},\"size\":{\"field\":\"frac_crimes\"},\"x\":{\"field\":\"n_samples\"},\"y\":{\"field\":\"n_rec_crimes\"}},\"id\":\"6961\",\"type\":\"Circle\"},{\"attributes\":{\"fill_alpha\":{\"value\":0.2},\"fill_color\":{\"value\":\"#4c72b0\"},\"hatch_alpha\":{\"value\":0.2},\"hatch_color\":{\"value\":\"#4c72b0\"},\"line_alpha\":{\"value\":0.2},\"line_color\":{\"value\":\"#4c72b0\"},\"size\":{\"field\":\"frac_crimes\"},\"x\":{\"field\":\"n_samples\"},\"y\":{\"field\":\"n_rec_crimes\"}},\"id\":\"6875\",\"type\":\"Circle\"},{\"attributes\":{},\"id\":\"6861\",\"type\":\"SaveTool\"},{\"attributes\":{},\"id\":\"6862\",\"type\":\"ResetTool\"},{\"attributes\":{\"source\":{\"id\":\"6838\"}},\"id\":\"6877\",\"type\":\"CDSView\"},{\"attributes\":{\"fill_alpha\":{\"value\":0.1},\"fill_color\":{\"value\":\"#8172b3\"},\"hatch_alpha\":{\"value\":0.1},\"hatch_color\":{\"value\":\"#8172b3\"},\"line_alpha\":{\"value\":0.1},\"line_color\":{\"value\":\"#8172b3\"},\"size\":{\"field\":\"frac_crimes\"},\"x\":{\"field\":\"n_samples\"},\"y\":{\"field\":\"n_rec_crimes\"}},\"id\":\"6943\",\"type\":\"Circle\"},{\"attributes\":{\"click_policy\":\"mute\",\"coordinates\":null,\"group\":null,\"items\":[{\"id\":\"6889\"},{\"id\":\"6906\"},{\"id\":\"6923\"},{\"id\":\"6940\"},{\"id\":\"6957\"},{\"id\":\"6974\"}]},\"id\":\"6888\",\"type\":\"Legend\"},{\"attributes\":{\"label\":{\"value\":\"Asian\"},\"renderers\":[{\"id\":\"6962\"}]},\"id\":\"6974\",\"type\":\"LegendItem\"},{\"attributes\":{\"tools\":[{\"id\":\"6858\"},{\"id\":\"6859\"},{\"id\":\"6860\"},{\"id\":\"6861\"},{\"id\":\"6862\"},{\"id\":\"6863\"},{\"id\":\"6975\"}]},\"id\":\"6865\",\"type\":\"Toolbar\"},{\"attributes\":{},\"id\":\"6886\",\"type\":\"Selection\"},{\"attributes\":{\"coordinates\":null,\"data_source\":{\"id\":\"6838\"},\"glyph\":{\"id\":\"6942\"},\"group\":null,\"hover_glyph\":null,\"muted_glyph\":{\"id\":\"6944\"},\"nonselection_glyph\":{\"id\":\"6943\"},\"view\":{\"id\":\"6946\"}},\"id\":\"6945\",\"type\":\"GlyphRenderer\"},{\"attributes\":{},\"id\":\"6885\",\"type\":\"UnionRenderers\"},{\"attributes\":{\"source\":{\"id\":\"6838\"}},\"id\":\"6946\",\"type\":\"CDSView\"},{\"attributes\":{\"fill_alpha\":{\"value\":0.2},\"fill_color\":{\"value\":\"#8172b3\"},\"hatch_alpha\":{\"value\":0.2},\"hatch_color\":{\"value\":\"#8172b3\"},\"line_alpha\":{\"value\":0.2},\"line_color\":{\"value\":\"#8172b3\"},\"size\":{\"field\":\"frac_crimes\"},\"x\":{\"field\":\"n_samples\"},\"y\":{\"field\":\"n_rec_crimes\"}},\"id\":\"6944\",\"type\":\"Circle\"},{\"attributes\":{},\"id\":\"6883\",\"type\":\"BasicTickFormatter\"},{\"attributes\":{\"label\":{\"value\":\"Native American\"},\"renderers\":[{\"id\":\"6945\"}]},\"id\":\"6957\",\"type\":\"LegendItem\"},{\"attributes\":{\"axis\":{\"id\":\"6850\"},\"coordinates\":null,\"group\":null,\"ticker\":null},\"id\":\"6853\",\"type\":\"Grid\"},{\"attributes\":{\"source\":{\"id\":\"6838\"}},\"id\":\"6895\",\"type\":\"CDSView\"},{\"attributes\":{},\"id\":\"6855\",\"type\":\"BasicTicker\"}],\"root_ids\":[\"6839\"]},\"title\":\"Bokeh Application\",\"version\":\"2.4.2\"}};\n  const render_items = [{\"docid\":\"43515a52-9b65-40d6-8fad-0041cc0a8994\",\"root_ids\":[\"6839\"],\"roots\":{\"6839\":\"838da62d-513b-4276-b55a-678b0cef588a\"}}];\n  root.Bokeh.embed.embed_items_notebook(docs_json, render_items);\n\n  }\n  if (root.Bokeh !== undefined) {\n    embed_document(root);\n  } else {\n    let attempts = 0;\n    const timer = setInterval(function(root) {\n      if (root.Bokeh !== undefined) {\n        clearInterval(timer);\n        embed_document(root);\n      } else {\n        attempts++;\n        if (attempts > 100) {\n          clearInterval(timer);\n          console.log(\"Bokeh: ERROR: Unable to run BokehJS code because BokehJS library is missing\");\n        }\n      }\n    }, 10, root)\n  }\n})(window);",
      "application/vnd.bokehjs_exec.v0+json": ""
     },
     "metadata": {
      "application/vnd.bokehjs_exec.v0+json": {
       "id": "6839"
      }
     },
     "output_type": "display_data"
    }
   ],
   "source": [
    "# 1.2a\n",
    "# a)\n",
    "D2 = pd.DataFrame(index = races, columns=[\"n_samples\", \"n_rec_crimes\", \"frac_crimes\"])\n",
    "for race in races:\n",
    "    n_samples = len(D[D['race'] == race])\n",
    "    n_rec_crimes = (D['is_recid'][D['race'] == race]).sum()\n",
    "    frac_crimes = n_rec_crimes / n_samples * 100\n",
    "    D2.loc[race] = [n_samples, n_rec_crimes, frac_crimes]\n",
    "\n",
    "# b)\n",
    "CDS2 = ColumnDataSource(D2)\n",
    "\n",
    "# c)\n",
    "colors = sns.color_palette(n_colors = len(races)).as_hex() \n",
    "p = figure(title=\"Great title\", x_axis_label='Crimes', y_axis_label='Re-commits')\n",
    "circles = {}\n",
    "for i, race in enumerate(races):\n",
    "    print(i, race)\n",
    "    circles[race] = p.circle(x=\"n_samples\", y=\"n_rec_crimes\", size=\"frac_crimes\", source = CDS2, legend_label=race, color=colors[i])\n",
    "p.legend.click_policy=\"mute\" #assigns the click policy (you can try to use ''hide')\n",
    "p.add_tools(HoverTool())\n",
    "show(p)"
   ]
  },
  {
   "cell_type": "markdown",
   "metadata": {},
   "source": [
    "<details>\n",
    "    <summary>Ok, it is now time to uncover where this data is coming from. <b>Only click on this cell to open it after you have completed the exercise above</b></summary>\n",
    "    The data we are using is related to:\n",
    "    <ul>\n",
    "        <li> <b>COMPAS</b> (Correctional Offender Management Profiling for Alternative Sanctions), a <a href=https://towardsdatascience.com/compas-case-study-fairness-of-a-machine-learning-model-f0f804108751>popular commercial algorithm</a> used by judges and parole officers for scoring criminal defendant’s likelihood of reoffending (recidivism).  </li>\n",
    "        <li> Multiple works have shown that the algorithm is biased towards non-caucasian people. <b>ProPublica</b> has published an <a href=https://www.propublica.org/article/how-we-analyzed-the-compas-recidivism-algorithm>extensive work</a> on the topic. </li>\n",
    "    </ul>\n",
    "</details>"
   ]
  },
  {
   "cell_type": "markdown",
   "metadata": {},
   "source": [
    "## Part 2: Visualize the results of a Machine Learning model"
   ]
  },
  {
   "cell_type": "markdown",
   "metadata": {},
   "source": [
    "Above, we had a deeper look at the recidivism dataset and the visualizations we created highlighted some possible issues/imbalances with the data and especially with race. \n",
    "\n",
    "If you had a look at the hidden information cell above, now you know what the problems are with this dataset and with using it to predict recidivism. During Week 6, you trained a classification model to predict criminal recidivism on this data. Now, a question might rise... Is your model biased? If yes, can you do anything about it?\n",
    "\n",
    "You will now use visualization to better understand the results of your model. This is one of the reasons why visualization is so powerful. Not only it allows us to explore data and create an understanding of the different aspects of it, but it also allows us to understand ML models and their performance!\n",
    "\n",
    "In the next exercise, use the model you have trained/tested in Week 6 by using only the columns selected in Week 6, Exercise 3.1 and by preprocessing as in Exercise 3.2."
   ]
  },
  {
   "cell_type": "code",
   "execution_count": 39,
   "metadata": {},
   "outputs": [],
   "source": [
    "# 1. Loading model\n",
    "from joblib import dump, load\n",
    "clf = load('RFHelloWorld.joblib')\n",
    "clf\n",
    "\n",
    "# Preprocess\n",
    "def OneHotty(X):\n",
    "    X['sex'] = pd.get_dummies(X['sex'], drop_first=True) # Assume Female \n",
    "    X = X.join(pd.get_dummies(X['race'],drop_first=True)) # Assume Afro-American\n",
    "    X = X.drop(columns=['race'])\n",
    "    return(X)\n",
    "\n",
    "\n",
    "url = 'https://raw.githubusercontent.com/suneman/socialdata2022/main/files/recidivism_dataset_sub.csv'\n",
    "Xvar = ['age', 'sex', 'race', 'juv_fel_count', 'juv_misd_count', 'juv_other_count', 'priors_count', 'is_recid', 'days_b_screening_arrest','c_charge_degree']\n",
    "yvar = ['two_year_recid']\n",
    "\n",
    "Dfull = pd.read_csv(url)  # OMG :))!\n",
    "\n",
    "# Clean data\n",
    "D = D[D['is_recid'] != -1]\n",
    "D = D[D['c_charge_degree'] != 'O']\n",
    "D = D[ (D['days_b_screening_arrest'] <= 30) & (D['days_b_screening_arrest'] >= -30)]\n",
    "Dc = D.drop(columns=['is_recid', 'c_charge_degree', 'days_b_screening_arrest'])\n",
    "\n",
    "# Split data\n",
    "X = Dc.drop(columns = yvar)\n",
    "y = Dc[yvar]\n",
    "\n",
    "Xtrain, Xtest, ytrain, ytest = train_test_split(X, y, test_size=0.7, random_state=42)\n",
    "\n",
    "Xtrain  = OneHotty(Xtrain)\n",
    "Xtest  = OneHotty(Xtest)"
   ]
  },
  {
   "cell_type": "markdown",
   "metadata": {},
   "source": [
    "> *Exercise 2:* Evaluating the quality of predictions. One of the simplest ways to get a glimpse into the performance of an classification model is to look at the [Confustion Matrix](https://towardsdatascience.com/understanding-confusion-matrix-a9ad42dcfd62).\n",
    ">\n",
    "> * Create a confusion matrix that evaluates the performance of your model. What do you observe?\n",
    "> * Now, create a confusion matrix for specific groups:\n",
    ">    * Take targets and predictions only for *Caucasians*,\n",
    ">    * Take targets and predictions only for *African-Americans*.\n",
    ">    * Create a confusion matrix for each group. What do you see when you compare the two confusion matrices? Explain in your own words how this might affect the overall fairness of your model.\n",
    "\n",
    "Again, after giving an answer to the questions above, **take a minute and discuss** your thoughts with your neighbour or one of your group members."
   ]
  },
  {
   "cell_type": "code",
   "execution_count": 155,
   "metadata": {},
   "outputs": [
    {
     "data": {
      "text/plain": [
       "Text(0.5, 1.0, 'African-American')"
      ]
     },
     "execution_count": 155,
     "metadata": {},
     "output_type": "execute_result"
    },
    {
     "data": {
      "image/png": "[encoded data removed]",
      "text/plain": [
       "<Figure size 432x288 with 2 Axes>"
      ]
     },
     "metadata": {
      "needs_background": "light"
     },
     "output_type": "display_data"
    },
    {
     "data": {
      "image/png": "[encoded data removed]",
      "text/plain": [
       "<Figure size 432x288 with 2 Axes>"
      ]
     },
     "metadata": {
      "needs_background": "light"
     },
     "output_type": "display_data"
    },
    {
     "data": {
      "image/png": "[encoded data removed]",
      "text/plain": [
       "<Figure size 432x288 with 2 Axes>"
      ]
     },
     "metadata": {
      "needs_background": "light"
     },
     "output_type": "display_data"
    }
   ],
   "source": [
    "from sklearn.metrics import ConfusionMatrixDisplay\n",
    "ypred = clf.predict(Xtest)\n",
    "\n",
    "ConfusionMatrixDisplay.from_predictions(ytest, ypred, normalize='true') # A lot of FP (!) and FN\n",
    "plt.grid(b=None)\n",
    "plt.title(\"All\")\n",
    "\n",
    "indx_cauc = Xtest['Caucasian']==1\n",
    "indx_africanamerican = (Xtest[['Asian', 'Caucasian', 'Hispanic','Native American', 'Other']] == 0).all(axis=1)\n",
    "\n",
    "ConfusionMatrixDisplay.from_predictions(ytest[indx_cauc].values.ravel(), ypred[indx_cauc], normalize='true')\n",
    "plt.grid(b=None)\n",
    "plt.title(\"Caucassian\")\n",
    "\n",
    "ConfusionMatrixDisplay.from_predictions(ytest[indx_africanamerican].values.ravel(), ypred[indx_africanamerican],normalize='true')\n",
    "plt.grid(b=None)\n",
    "plt.title(\"African-American\")"
   ]
  },
  {
   "cell_type": "markdown",
   "metadata": {},
   "source": [
    "NB: Normalized in rows, i.e. out of the true\n",
    "\n",
    "We see that Caucassians \"get away\" much more often (high False Negative), and African-Americans are wrongly convicted (high False Positive)"
   ]
  },
  {
   "cell_type": "markdown",
   "metadata": {},
   "source": [
    "<details>\n",
    "    <summary> Exercise 2 interpretation hint <b>(Only open after you have completed the exercise above)</b></summary>\n",
    "    <ul>\n",
    "        <li>It seems that our model has higher number of <b>False-Positives</b> or <b>False-Negatives</b> for different groups of people. Go back to Exercise 2 if you did not spot this difference and think at the related implication. </li>\n",
    "      <li>Several researchers also noticed this issue. The following essay by Ellora Thadaney Israni describes the potential issues with the algorithm and data: <a href = https://www.nytimes.com/2017/10/26/opinion/algorithm-compas-sentencing-bias.html> When an Algorithm Helps Send You to Prison </a> (If you don't have access to it you can find the article on DTU Learn -> Course Content -> Content -> Lecture 7 reading)</li>\n",
    "    </ul>\n",
    "</details>"
   ]
  },
  {
   "cell_type": "markdown",
   "metadata": {},
   "source": [
    "## Part 3: Fairness and bias in Machine Learning"
   ]
  },
  {
   "cell_type": "markdown",
   "metadata": {},
   "source": [
    "Before we try to fix our model, let's understand bias better and get some intuition about it. In the video below I summarize different types of bias. \n",
    "\n",
    "[![IMAGE ALT TEXT HERE](https://img.youtube.com/vi/tcz800ZXclA/0.jpg)](https://www.youtube.com/watch?v=tcz800ZXclA)"
   ]
  },
  {
   "cell_type": "markdown",
   "metadata": {},
   "source": [
    ">*Exercise 3.1:* Have you watched the video? A few questions to make sure you did.\n",
    "> * What does **data bias** mean?\n",
    "> * What are the most common types of data bias? \n",
    "> * Choose two types of data bias and explain them by also providing some examples.\n",
    "> * How can data bias be identified? \n",
    "> * At what step of the process can we correct for bias?\n",
    "> * What do you think are the potential bias sources in our case-study (i.e. recidivism)?"
   ]
  },
  {
   "cell_type": "markdown",
   "metadata": {},
   "source": [
    "Alright, now we know a bit more about bias... but how do we correct it in practice? There are many ways, and you are going to test a couple of methods to correct the predictions on recidivism to enhance the fairness of your model.\n",
    "\n",
    "Germans and I had a nice chat about it and recorded a video to introduce you with two methods: *Demographic Pairity* and *Equal Odds*!\n",
    "\n",
    "[![IMAGE ALT TEXT HERE](https://img.youtube.com/vi/DHz1xDKT4xw/0.jpg)](https://www.youtube.com/watch?v=DHz1xDKT4xw)"
   ]
  },
  {
   "cell_type": "markdown",
   "metadata": {},
   "source": [
    "In the following exercises we are going to focus only on the *African-American* and *Caucasian* groups as they have more data samples in our data (however, you can repeat the steps for other demographics too!)."
   ]
  },
  {
   "cell_type": "markdown",
   "metadata": {},
   "source": [
    "> *Exercise 3.2:* Demographic Parity. In this exercise, we are going to implement the function for Demographic Parity and apply it to the results of your ML model (i.e. on the predictions of the Test set).\n",
    ">\n",
    "> * Compute the probability of predicting recidivism ($\\hat{y}=1$) for the two populations, i.e. $P_{AA}$ for African-American and $P_{CA}$ for Caucasian. What do you observe?\n",
    "> * To debias the output you need to:\n",
    ">    * Compute the threshold as $th = 1 - \\frac{P_{CA}}{P_{AA}}$;\n",
    ">    * randomly flip positive prediction to negative (1s to 0s), i.e. pick a random number $n\\in\\left[0,1\\right)$ from a uniform distribution and flip a positive prediction if $n < th$.\n",
    "> * Recompute the probabilities $P_{CA}$ and $P_{AA}$ (only now they are corrected). What do you observe?\n",
    "> * Plot the confusion matrices with the corrected values. What do you observe?\n",
    "> * Explain what could be the issue with this method. We have discussed it in the video 😉"
   ]
  },
  {
   "cell_type": "code",
   "execution_count": 194,
   "metadata": {},
   "outputs": [
    {
     "name": "stdout",
     "output_type": "stream",
     "text": [
      "Probability of a predicition of recidivism for Caucassians: 0.33 and for African American 0.53\n",
      "Probability of a predicition of recidivism for Caucassians: 0.33 and for African American 0.53\n"
     ]
    }
   ],
   "source": [
    "from copy import deepcopy\n",
    "ypred1 = deepcopy(ypred) # copy array\n",
    "\n",
    "# a)\n",
    "P_ca = ypred[indx_cauc].mean()\n",
    "P_aa = ypred[indx_africanamerican].mean()\n",
    "print(f'Probability of a predicition of recidivism for Caucassians: {round(P_ca,2)} and for African American {round(P_aa,3)}')\n",
    "\n",
    "# b) De-bias\n",
    "th = 1 - P_ca / P_aa\n",
    "\n",
    "for i in range(len(ypred[indx_africanamerican])):\n",
    "    if ypred[indx_africanamerican][i] == 1:\n",
    "        # flip coint\n",
    "        n = np.random.uniform()\n",
    "        if n < th:\n",
    "            ypred1[indx_africanamerican][i] = 0\n",
    "\n",
    "\n",
    "# c) Check results\n",
    "P_ca = ypred1[indx_cauc].mean()\n",
    "P_aa = ypred1[indx_africanamerican].mean()\n",
    "print(f'Probability of a predicition of recidivism for Caucassians: {round(P_ca,2)} and for African American {round(P_aa,3)}')\n"
   ]
  },
  {
   "cell_type": "code",
   "execution_count": 193,
   "metadata": {},
   "outputs": [
    {
     "name": "stdout",
     "output_type": "stream",
     "text": [
      "Initial value:  1\n"
     ]
    },
    {
     "ename": "AttributeError",
     "evalue": "'numpy.ndarray' object has no attribute 'iloc'",
     "output_type": "error",
     "traceback": [
      "\u001b[0;31m---------------------------------------------------------------------------\u001b[0m",
      "\u001b[0;31mAttributeError\u001b[0m                            Traceback (most recent call last)",
      "\u001b[0;32m/var/folders/wv/j_lqm8yn4ndb1hvhthjcrb540000gn/T/ipykernel_41177/2447952979.py\u001b[0m in \u001b[0;36m<module>\u001b[0;34m\u001b[0m\n\u001b[1;32m      1\u001b[0m \u001b[0mprint\u001b[0m\u001b[0;34m(\u001b[0m\u001b[0;34m'Initial value: '\u001b[0m\u001b[0;34m,\u001b[0m \u001b[0mypred1\u001b[0m\u001b[0;34m[\u001b[0m\u001b[0mindx_africanamerican\u001b[0m\u001b[0;34m]\u001b[0m\u001b[0;34m[\u001b[0m\u001b[0;36m47\u001b[0m\u001b[0;34m]\u001b[0m\u001b[0;34m)\u001b[0m\u001b[0;34m\u001b[0m\u001b[0;34m\u001b[0m\u001b[0m\n\u001b[0;32m----> 2\u001b[0;31m \u001b[0mypred1\u001b[0m\u001b[0;34m.\u001b[0m\u001b[0miloc\u001b[0m\u001b[0;34m[\u001b[0m\u001b[0mindx_africanamerican\u001b[0m\u001b[0;34m,\u001b[0m\u001b[0;36m47\u001b[0m\u001b[0;34m]\u001b[0m \u001b[0;34m=\u001b[0m \u001b[0;36m0\u001b[0m\u001b[0;34m\u001b[0m\u001b[0;34m\u001b[0m\u001b[0m\n\u001b[0m\u001b[1;32m      3\u001b[0m \u001b[0mprint\u001b[0m\u001b[0;34m(\u001b[0m\u001b[0;34m'Changed value: '\u001b[0m\u001b[0;34m,\u001b[0m \u001b[0mypred1\u001b[0m\u001b[0;34m[\u001b[0m\u001b[0mindx_africanamerican\u001b[0m\u001b[0;34m]\u001b[0m\u001b[0;34m[\u001b[0m\u001b[0;36m47\u001b[0m\u001b[0;34m]\u001b[0m\u001b[0;34m)\u001b[0m\u001b[0;34m\u001b[0m\u001b[0;34m\u001b[0m\u001b[0m\n",
      "\u001b[0;31mAttributeError\u001b[0m: 'numpy.ndarray' object has no attribute 'iloc'"
     ]
    }
   ],
   "source": [
    "print('Initial value: ', ypred1[indx_africanamerican][47])\n",
    "ypred1.iloc[indx_africanamerican,47] = 0\n",
    "print('Changed value: ', ypred1[indx_africanamerican][47])"
   ]
  },
  {
   "cell_type": "code",
   "execution_count": 199,
   "metadata": {},
   "outputs": [
    {
     "name": "stdout",
     "output_type": "stream",
     "text": [
      "(4321,)\n",
      "(4321,)\n"
     ]
    }
   ],
   "source": [
    "print(ypred1.shape)\n",
    "print(indx_africanamerican.shape)\n"
   ]
  },
  {
   "cell_type": "markdown",
   "metadata": {},
   "source": [
    "You are almost there! In the following you will use the Equal Odds method to correct your predictions. It seems long, but don't worry it is because I added a bit more code, steps, hints for this one."
   ]
  },
  {
   "cell_type": "markdown",
   "metadata": {},
   "source": [
    "> *Exercise 3.3:* Equal Odds. As in the exercise above we are going to use the results of you ML model on the test set.\n",
    "> * This method takes into account the predictions of your model $\\hat{y}$ for different thresholds $th$:\n",
    ">    * Get the probabilities out of your model by using `y_prob = model.predict_proba(X_test)` (here, `model` is your model).\n",
    ">    * Define the thresholds as `ths = np.linspace(1e-5,1-1e-5, 10)` (you can edit this one to have different thresholds). Now, you can find $\\hat{y}$ as:\n",
    ">\n",
    ">\n",
    ">$$\\begin{cases}\\hat{y}=1, \\mbox{ if } y_{prob} > th \\\\ \\hat{y}=0, \\mbox{ otherwhise}\\end{cases}$$\n",
    ">\n",
    ">\n",
    "> * Implement a function that takes as an input $y$ (i.e the target labels), $\\hat{y}$, and `ths` and returns the true-positive rate $TPR$ and the false-positive rate $FPR$ (definitions in the video above).\n",
    "> * Now, you need to find the thresholds that lead to the closest points for the two groups on the [ROC curve](https://en.wikipedia.org/wiki/Receiver_operating_characteristic). The first way is by using the functions below in your code to find the thresholds that lead to the smaller distance (**but suitable FPR and TPR**):\n",
    "> ```python\n",
    "    #This function takes as an input y, y_probs, thr \n",
    "    #and returns the points to plot the ROC curve and their threshold\n",
    "    def roc_curve(y, y_probs, ths):\n",
    "        #initialize roc as an empty np.array\n",
    "        roc = np.array([])\n",
    "        #loop over thresholds\n",
    "        for th in ths:\n",
    "          #convert y_prob in y_hat\n",
    "          y_hat = ADD_YOUR_FUNCTION_HERE(y_prob,th)\n",
    "          #compute TPR and FPR\n",
    "          TPR, FPR = ADD_YOUR_FUNCTION_HERE(y, y_hat)\n",
    "          #add threshold and point to roc array\n",
    "          roc = np.append(roc, [th, FPR, TPR])\n",
    "       #return roc\n",
    "       return roc.reshape(-1, 3)\n",
    "> ```\n",
    "> ```python\n",
    "    #This function takes as an input the points from one roc (first group) and the other (second group) and order the points by their distance in ascending order \n",
    "    def closest_points(points1, points2):\n",
    "        #initialize result\n",
    "        res = list()\n",
    "        #loop over points in group 1\n",
    "        for pi in points1:\n",
    "          #loop over points in group 2\n",
    "          for pj in points2:\n",
    "            #add points and their distance to res\n",
    "            res.append(((pi, pj), np.linalg.norm(pi[1:] - pj[1:])))\n",
    "        #return sorted result\n",
    "        return sorted(res, key = lambda x: x[1])\n",
    "> ```\n",
    "> * The second way is by visualizing the ROC curves. Let's do it with Bokeh:\n",
    ">     * Get the two ROC curves with the function `roc_curve` above and call them `roc_aa` (for African-Americans) and `roc_ca` (for Caucasian).\n",
    ">     * Create a `DataFrame` called `df_roc` with columns `FPR_AA`, `TPR_AA`, `FPR_CA`, `TPR_CA`, with the FPR and TPR values for both groups. Convert the dataframe into a Bokeh `ColumnDataSource`.\n",
    ">     * Create an empty bokeh figure and add labels and title (we will have FPR on the x-axis and TPR on the y-axis)\n",
    ">     * Add two `p.line()` by passing the values from your dataframe for one group and then the other. You should now see the plot with both lines. Use colors and other parameters to customize it as you like\n",
    ">     * Finally, we need to add one last thing: interactive points that will show the thresholds. The easiest way I found to do this was to create a second `DataFrame` with columns `x`, `y`, `th` where x is the combined list of `FPR_AA` and `FPR_CA`, y is the combined list of `TPR_AA` and `TPR_CA`, and th is the threshold list repeated twice. Convert this dataframe into a Bokeh `ColumnDataSource` as usual and add the points to the plot with \n",
    "> ```python\n",
    "> cr = p.circle('x','y',source=..., fill_color=..., hover_fill_color=...) \n",
    "> ````\n",
    "> you can make them interactive by adding the following line of code:\n",
    "> ```python \n",
    ">    p.add_tools(HoverTool(tooltips=[('Threshold', '@th')], renderers=[cr]))\n",
    "> ```\n",
    "> * Use the two methods above to find a threshold for each group. What threshold did you find?\n",
    "> * Debias the output by computing $\\hat{y}$ for the two groups with the thresholds you found. Now plot the confusion matrices for African-Americans and Caucasian again. What do you observe? \n",
    "> * We ended the video by saying that there might be still a problem with the methods we have used to de-bias data. What do you think the problem is? **Hint**: it is related to the [following article](https://en.wikipedia.org/wiki/Protected_group). Skim through it to get an idea!"
   ]
  },
  {
   "cell_type": "markdown",
   "metadata": {},
   "source": [
    "Well done! It is now time for you to have a break, relax and be proud of the awesome work you have done!! But before you go, please <mark> take a minute of your time (it is really one minute) to fill this [form](https://forms.gle/fbUXFxmJ283cKGvy6). Thank you so much! </mark>"
   ]
  }
 ],
 "metadata": {
  "kernelspec": {
   "display_name": "Python 3",
   "language": "python",
   "name": "python3"
  },
  "language_info": {
   "codemirror_mode": {
    "name": "ipython",
    "version": 3
   },
   "file_extension": ".py",
   "mimetype": "text/x-python",
   "name": "python",
   "nbconvert_exporter": "python",
   "pygments_lexer": "ipython3",
   "version": "3.9.7"
  }
 },
 "nbformat": 4,
 "nbformat_minor": 4
}
